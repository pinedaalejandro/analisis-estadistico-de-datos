{
 "cells": [
  {
   "cell_type": "markdown",
   "id": "bddaa215",
   "metadata": {
    "id": "bddaa215"
   },
   "source": [
    "## Preparación de los datos\n",
    "\n",
    "Para la empresa de telecomunicaciones `Megaline` se debe identificar cual de sus dos tarífas de prepago son las que generan mayores ingresos con la intención de ajustar los presupuestos de publicidad. Las reglas que maneja `Megaline` explica que los `segundos` son redondeados a `minutos` y los `megabytes` a `gigabytes`, para el caso de las `llamadas`, cada `llamada` se redondea, incluso si esta tuvo una duración de un segundo, se contará como un minuto; respecto al `tráfico web` la sesiones web individuales no se redondean, en vez de esto el total del mes se redondea hacia arriba, es decir, si alguien usa 1025 megabytes, se le cobrarán 2 gigabytes. \n",
    "\n",
    "La descripción de las tarifas es la siguiente:\n",
    "\n",
    "**Surf**:\n",
    "- Pago mensual: 20\n",
    "- 500 minutos al mes, 50 SMS y 15 GB de datos\n",
    "- Si se exceden los límites del paquete:\n",
    "    - 1 minuto: 3 centavos\n",
    "    - 1 SMS: 3 centavos\n",
    "    - 1 GB de datos: 10\n",
    "\n",
    "**Ultimate**\n",
    "- Pago mensual: 70\n",
    "- 3000 minutos al mes, 1000 SMS y 30 GB de datos\n",
    "- Si se exceden los límites del paquete:\n",
    "    - 1 minuto: 1 centavos\n",
    "    - 1 SMS: 1 centavos\n",
    "    - 1 GB de datos: 7\n",
    "\n",
    "**Objetivo:** Validar que plan genera más ingresos para la compañia `Megaline` con la intención de ajustar el siguiente presupuesto y verificar si hay alguna diferencia entre los ingresos de las regiones de `Nueva York` y `Nueva Jersey` con respecto a otras regiones.\n"
   ]
  },
  {
   "cell_type": "markdown",
   "id": "22424162",
   "metadata": {},
   "source": [
    "# Tabla de contenidos\n",
    "\n",
    "**1.- Preparación de los datos**: Estudio de los datos para validar que se encuentren en óptimas condiciones para el trabajo.\n",
    "\n",
    "**2.- Análisis estadístico**: Calculo de promedios, varianzas, desviaciones estandar y presentación de histogramas, así también presentación de la cantidad de usuarios que sobrepasan los límites del plan contratado y sus servicios.\n",
    "\n",
    "**3.- Prueba de hipótesis**: Pruebas de hipótesis para validación de lo encontrado en el `análisis estadístico`.\n",
    "\n",
    "**4.- Conclusiones**\n"
   ]
  },
  {
   "cell_type": "markdown",
   "id": "5c74dde3",
   "metadata": {
    "id": "5c74dde3"
   },
   "source": [
    "### Apertura de archivos y estudio de la información"
   ]
  },
  {
   "cell_type": "code",
   "execution_count": 1,
   "id": "316f1905",
   "metadata": {
    "id": "316f1905"
   },
   "outputs": [],
   "source": [
    "# Importando librerias a utilizar\n",
    "import pandas as pd\n",
    "import matplotlib.pyplot as plt\n",
    "import numpy as np\n",
    "from scipy import stats as st\n",
    "from scipy.stats import levene\n",
    "import random"
   ]
  },
  {
   "cell_type": "code",
   "execution_count": 2,
   "id": "c165035b",
   "metadata": {
    "id": "c165035b"
   },
   "outputs": [],
   "source": [
    "# Importando información\n",
    "df_megaline_calls = pd.read_csv('datasets/megaline_calls.csv')\n",
    "df_megaline_internet = pd.read_csv('datasets/megaline_internet.csv')\n",
    "df_megaline_messages = pd.read_csv('datasets/megaline_messages.csv')\n",
    "df_megaline_plans = pd.read_csv('datasets/megaline_plans.csv')\n",
    "df_megaline_users = pd.read_csv('datasets/megaline_users.csv')\n"
   ]
  },
  {
   "cell_type": "markdown",
   "id": "b602203e",
   "metadata": {
    "id": "b602203e"
   },
   "source": [
    "Se analizará la información contenida en cada uno de los df con la intención de asegurarnos que proporcione la mejor calidad posible a nuestro análisis.\n",
    "\n",
    "Comenzaremos analizando el dataframe `df_megaline_users` pues las tarifas son asignadas a los usuarios."
   ]
  },
  {
   "cell_type": "markdown",
   "id": "vfZpPu497g1J",
   "metadata": {
    "id": "vfZpPu497g1J"
   },
   "source": [
    "### Trabajando con \"df_megaline_users\""
   ]
  },
  {
   "cell_type": "code",
   "execution_count": 3,
   "id": "9AJ73Ink7ffO",
   "metadata": {
    "colab": {
     "base_uri": "https://localhost:8080/"
    },
    "id": "9AJ73Ink7ffO",
    "outputId": "10ba00c8-470c-45a8-f12e-83bd351faec2"
   },
   "outputs": [
    {
     "name": "stdout",
     "output_type": "stream",
     "text": [
      "<class 'pandas.core.frame.DataFrame'>\n",
      "RangeIndex: 500 entries, 0 to 499\n",
      "Data columns (total 8 columns):\n",
      " #   Column      Non-Null Count  Dtype \n",
      "---  ------      --------------  ----- \n",
      " 0   user_id     500 non-null    int64 \n",
      " 1   first_name  500 non-null    object\n",
      " 2   last_name   500 non-null    object\n",
      " 3   age         500 non-null    int64 \n",
      " 4   city        500 non-null    object\n",
      " 5   reg_date    500 non-null    object\n",
      " 6   plan        500 non-null    object\n",
      " 7   churn_date  34 non-null     object\n",
      "dtypes: int64(2), object(6)\n",
      "memory usage: 31.4+ KB\n"
     ]
    }
   ],
   "source": [
    "# Obteniendo información de \"df_megaline_users\"\n",
    "df_megaline_users.info()\n"
   ]
  },
  {
   "cell_type": "markdown",
   "id": "ftSfXgqB8JAn",
   "metadata": {
    "id": "ftSfXgqB8JAn"
   },
   "source": [
    "Como se puede observar, la tabla nos proporciona la información de `500` usuarios y tiene la siguiente descripción:\n",
    "\n",
    "- `user_id`: Es el identificador único de usuario y tiene un tipo de dato `int`.\n",
    "- `first_name`: Nombre del usuario y tipo de dato `object = str`.\n",
    "- `last_name`: Apellido del usuario y tipo de dato `object = str`.\n",
    "- `age`: Edad del usuario en años y tipo de dato `int`.\n",
    "- `city`: Ciudad de residencia del usuario y tipo de dato `object = str`.\n",
    "- `reg_date`: Fecha de suscripción y tipo de dato `object = str` y debería ser `datetime`.\n",
    "- `plan`: Nombre de la tarifa y tipo de dato `object = str`.\n",
    "- `churn_date`: La fecha en que el usuario dejo de usar el servicio, si esta ausente significa que el servicio sigue vigente.\n",
    "\n",
    "Visualizaremos una pequeña fracción de los datos para familiarizarnos con su estructura en el tipo de dato y procederemos con el cambio de tipo de dato de la columna `reg_date` y `churn_date` respectivamente."
   ]
  },
  {
   "cell_type": "code",
   "execution_count": 4,
   "id": "bHL3c3dl76Hs",
   "metadata": {
    "colab": {
     "base_uri": "https://localhost:8080/",
     "height": 363
    },
    "id": "bHL3c3dl76Hs",
    "outputId": "849532c9-4cc8-47e3-f0c4-733414c79550"
   },
   "outputs": [
    {
     "data": {
      "text/html": [
       "<div>\n",
       "<style scoped>\n",
       "    .dataframe tbody tr th:only-of-type {\n",
       "        vertical-align: middle;\n",
       "    }\n",
       "\n",
       "    .dataframe tbody tr th {\n",
       "        vertical-align: top;\n",
       "    }\n",
       "\n",
       "    .dataframe thead th {\n",
       "        text-align: right;\n",
       "    }\n",
       "</style>\n",
       "<table border=\"1\" class=\"dataframe\">\n",
       "  <thead>\n",
       "    <tr style=\"text-align: right;\">\n",
       "      <th></th>\n",
       "      <th>user_id</th>\n",
       "      <th>first_name</th>\n",
       "      <th>last_name</th>\n",
       "      <th>age</th>\n",
       "      <th>city</th>\n",
       "      <th>reg_date</th>\n",
       "      <th>plan</th>\n",
       "      <th>churn_date</th>\n",
       "    </tr>\n",
       "  </thead>\n",
       "  <tbody>\n",
       "    <tr>\n",
       "      <th>0</th>\n",
       "      <td>1000</td>\n",
       "      <td>Anamaria</td>\n",
       "      <td>Bauer</td>\n",
       "      <td>45</td>\n",
       "      <td>Atlanta-Sandy Springs-Roswell, GA MSA</td>\n",
       "      <td>2018-12-24</td>\n",
       "      <td>ultimate</td>\n",
       "      <td>NaN</td>\n",
       "    </tr>\n",
       "    <tr>\n",
       "      <th>1</th>\n",
       "      <td>1001</td>\n",
       "      <td>Mickey</td>\n",
       "      <td>Wilkerson</td>\n",
       "      <td>28</td>\n",
       "      <td>Seattle-Tacoma-Bellevue, WA MSA</td>\n",
       "      <td>2018-08-13</td>\n",
       "      <td>surf</td>\n",
       "      <td>NaN</td>\n",
       "    </tr>\n",
       "    <tr>\n",
       "      <th>2</th>\n",
       "      <td>1002</td>\n",
       "      <td>Carlee</td>\n",
       "      <td>Hoffman</td>\n",
       "      <td>36</td>\n",
       "      <td>Las Vegas-Henderson-Paradise, NV MSA</td>\n",
       "      <td>2018-10-21</td>\n",
       "      <td>surf</td>\n",
       "      <td>NaN</td>\n",
       "    </tr>\n",
       "    <tr>\n",
       "      <th>3</th>\n",
       "      <td>1003</td>\n",
       "      <td>Reynaldo</td>\n",
       "      <td>Jenkins</td>\n",
       "      <td>52</td>\n",
       "      <td>Tulsa, OK MSA</td>\n",
       "      <td>2018-01-28</td>\n",
       "      <td>surf</td>\n",
       "      <td>NaN</td>\n",
       "    </tr>\n",
       "    <tr>\n",
       "      <th>4</th>\n",
       "      <td>1004</td>\n",
       "      <td>Leonila</td>\n",
       "      <td>Thompson</td>\n",
       "      <td>40</td>\n",
       "      <td>Seattle-Tacoma-Bellevue, WA MSA</td>\n",
       "      <td>2018-05-23</td>\n",
       "      <td>surf</td>\n",
       "      <td>NaN</td>\n",
       "    </tr>\n",
       "    <tr>\n",
       "      <th>5</th>\n",
       "      <td>1005</td>\n",
       "      <td>Livia</td>\n",
       "      <td>Shields</td>\n",
       "      <td>31</td>\n",
       "      <td>Dallas-Fort Worth-Arlington, TX MSA</td>\n",
       "      <td>2018-11-29</td>\n",
       "      <td>surf</td>\n",
       "      <td>NaN</td>\n",
       "    </tr>\n",
       "    <tr>\n",
       "      <th>6</th>\n",
       "      <td>1006</td>\n",
       "      <td>Jesusa</td>\n",
       "      <td>Bradford</td>\n",
       "      <td>73</td>\n",
       "      <td>San Francisco-Oakland-Berkeley, CA MSA</td>\n",
       "      <td>2018-11-27</td>\n",
       "      <td>ultimate</td>\n",
       "      <td>2018-12-18</td>\n",
       "    </tr>\n",
       "    <tr>\n",
       "      <th>7</th>\n",
       "      <td>1007</td>\n",
       "      <td>Eusebio</td>\n",
       "      <td>Welch</td>\n",
       "      <td>42</td>\n",
       "      <td>Grand Rapids-Kentwood, MI MSA</td>\n",
       "      <td>2018-07-11</td>\n",
       "      <td>surf</td>\n",
       "      <td>NaN</td>\n",
       "    </tr>\n",
       "    <tr>\n",
       "      <th>8</th>\n",
       "      <td>1008</td>\n",
       "      <td>Emely</td>\n",
       "      <td>Hoffman</td>\n",
       "      <td>53</td>\n",
       "      <td>Orlando-Kissimmee-Sanford, FL MSA</td>\n",
       "      <td>2018-08-03</td>\n",
       "      <td>ultimate</td>\n",
       "      <td>NaN</td>\n",
       "    </tr>\n",
       "    <tr>\n",
       "      <th>9</th>\n",
       "      <td>1009</td>\n",
       "      <td>Gerry</td>\n",
       "      <td>Little</td>\n",
       "      <td>19</td>\n",
       "      <td>San Jose-Sunnyvale-Santa Clara, CA MSA</td>\n",
       "      <td>2018-04-22</td>\n",
       "      <td>surf</td>\n",
       "      <td>NaN</td>\n",
       "    </tr>\n",
       "  </tbody>\n",
       "</table>\n",
       "</div>"
      ],
      "text/plain": [
       "   user_id first_name  last_name  age                                    city  \\\n",
       "0     1000   Anamaria      Bauer   45   Atlanta-Sandy Springs-Roswell, GA MSA   \n",
       "1     1001     Mickey  Wilkerson   28         Seattle-Tacoma-Bellevue, WA MSA   \n",
       "2     1002     Carlee    Hoffman   36    Las Vegas-Henderson-Paradise, NV MSA   \n",
       "3     1003   Reynaldo    Jenkins   52                           Tulsa, OK MSA   \n",
       "4     1004    Leonila   Thompson   40         Seattle-Tacoma-Bellevue, WA MSA   \n",
       "5     1005      Livia    Shields   31     Dallas-Fort Worth-Arlington, TX MSA   \n",
       "6     1006     Jesusa   Bradford   73  San Francisco-Oakland-Berkeley, CA MSA   \n",
       "7     1007    Eusebio      Welch   42           Grand Rapids-Kentwood, MI MSA   \n",
       "8     1008      Emely    Hoffman   53       Orlando-Kissimmee-Sanford, FL MSA   \n",
       "9     1009      Gerry     Little   19  San Jose-Sunnyvale-Santa Clara, CA MSA   \n",
       "\n",
       "     reg_date      plan  churn_date  \n",
       "0  2018-12-24  ultimate         NaN  \n",
       "1  2018-08-13      surf         NaN  \n",
       "2  2018-10-21      surf         NaN  \n",
       "3  2018-01-28      surf         NaN  \n",
       "4  2018-05-23      surf         NaN  \n",
       "5  2018-11-29      surf         NaN  \n",
       "6  2018-11-27  ultimate  2018-12-18  \n",
       "7  2018-07-11      surf         NaN  \n",
       "8  2018-08-03  ultimate         NaN  \n",
       "9  2018-04-22      surf         NaN  "
      ]
     },
     "execution_count": 4,
     "metadata": {},
     "output_type": "execute_result"
    }
   ],
   "source": [
    "# Visualizando una porción de la tabla \"df_megaline_users\"\n",
    "df_megaline_users.head(10)"
   ]
  },
  {
   "cell_type": "code",
   "execution_count": 5,
   "id": "UOgGnh0H-DBR",
   "metadata": {
    "colab": {
     "base_uri": "https://localhost:8080/"
    },
    "id": "UOgGnh0H-DBR",
    "outputId": "00bcc451-2f96-4330-c96b-eebf1101d819"
   },
   "outputs": [
    {
     "name": "stdout",
     "output_type": "stream",
     "text": [
      "<class 'pandas.core.frame.DataFrame'>\n",
      "RangeIndex: 500 entries, 0 to 499\n",
      "Data columns (total 8 columns):\n",
      " #   Column      Non-Null Count  Dtype         \n",
      "---  ------      --------------  -----         \n",
      " 0   user_id     500 non-null    int64         \n",
      " 1   first_name  500 non-null    object        \n",
      " 2   last_name   500 non-null    object        \n",
      " 3   age         500 non-null    int64         \n",
      " 4   city        500 non-null    object        \n",
      " 5   reg_date    500 non-null    datetime64[ns]\n",
      " 6   plan        500 non-null    object        \n",
      " 7   churn_date  34 non-null     datetime64[ns]\n",
      "dtypes: datetime64[ns](2), int64(2), object(4)\n",
      "memory usage: 31.4+ KB\n"
     ]
    }
   ],
   "source": [
    "# Corrigiendo el tipo de dato para \"reg_date\" y \"churn_date\"\n",
    "df_megaline_users['reg_date'] = pd.to_datetime(df_megaline_users['reg_date'],format=\"%Y-%m-%d\")\n",
    "df_megaline_users['churn_date'] = pd.to_datetime(df_megaline_users['churn_date'],format=\"%Y-%m-%d\")\n",
    "df_megaline_users.info()"
   ]
  },
  {
   "cell_type": "markdown",
   "id": "cGzqM0nt65iW",
   "metadata": {
    "id": "cGzqM0nt65iW"
   },
   "source": [
    "Ahora comenzaremos a verificar duplicidad de datos, etc. con la intención de dejar el set de datos lo suficientemente limpio y listo para comenzar a trabajar."
   ]
  },
  {
   "cell_type": "code",
   "execution_count": 6,
   "id": "u9Xqo2mTN5AI",
   "metadata": {
    "colab": {
     "base_uri": "https://localhost:8080/"
    },
    "id": "u9Xqo2mTN5AI",
    "outputId": "5d5626de-5c1f-4a5d-8b6e-826b66ebd750"
   },
   "outputs": [
    {
     "data": {
      "text/plain": [
       "0"
      ]
     },
     "execution_count": 6,
     "metadata": {},
     "output_type": "execute_result"
    }
   ],
   "source": [
    "# Verificando duplicidad de datos de manera general\n",
    "df_megaline_users.duplicated().sum()"
   ]
  },
  {
   "cell_type": "code",
   "execution_count": 7,
   "id": "L4b4dCwtOU-O",
   "metadata": {
    "colab": {
     "base_uri": "https://localhost:8080/"
    },
    "id": "L4b4dCwtOU-O",
    "outputId": "8f2d2394-ed66-49c9-ba10-e109f69c34b5"
   },
   "outputs": [
    {
     "data": {
      "text/plain": [
       "0"
      ]
     },
     "execution_count": 7,
     "metadata": {},
     "output_type": "execute_result"
    }
   ],
   "source": [
    "# Verificando duplicidad de datos omitiendo las columnas \"plan\", \"reg_date\" y \"churn_date\" para validar registros duplicados con fechas distintas, etc.\n",
    "df_megaline_users.loc[:,['user_id','first_name','last_name','age','city']].duplicated().sum()"
   ]
  },
  {
   "cell_type": "markdown",
   "id": "jDERq5_QO5HD",
   "metadata": {
    "id": "jDERq5_QO5HD"
   },
   "source": [
    "Con los resultados anteriores, podemos concluir que `df_megaline_users` cuenta con los tipos de datos correctos, no hay duplicidad de registros y respecto a la columna `churn_date`se decidió no modificar sus valores ausentes puesto que de igual forma aportan información. Continuaremos trabajando ahora con `df_megaline_plans` pues también debemos partir de conocer que información nos ofrecen los planes."
   ]
  },
  {
   "cell_type": "markdown",
   "id": "tWt6YHA6AFtF",
   "metadata": {
    "id": "tWt6YHA6AFtF"
   },
   "source": [
    "### Trabajando con \"df_megaline_plans\""
   ]
  },
  {
   "cell_type": "code",
   "execution_count": 8,
   "id": "8UqCthae-vyf",
   "metadata": {
    "colab": {
     "base_uri": "https://localhost:8080/"
    },
    "id": "8UqCthae-vyf",
    "outputId": "4f6ccf3f-5a4a-4288-cc9b-08ceba278a60"
   },
   "outputs": [
    {
     "name": "stdout",
     "output_type": "stream",
     "text": [
      "<class 'pandas.core.frame.DataFrame'>\n",
      "RangeIndex: 2 entries, 0 to 1\n",
      "Data columns (total 8 columns):\n",
      " #   Column                 Non-Null Count  Dtype  \n",
      "---  ------                 --------------  -----  \n",
      " 0   messages_included      2 non-null      int64  \n",
      " 1   mb_per_month_included  2 non-null      int64  \n",
      " 2   minutes_included       2 non-null      int64  \n",
      " 3   usd_monthly_pay        2 non-null      int64  \n",
      " 4   usd_per_gb             2 non-null      int64  \n",
      " 5   usd_per_message        2 non-null      float64\n",
      " 6   usd_per_minute         2 non-null      float64\n",
      " 7   plan_name              2 non-null      object \n",
      "dtypes: float64(2), int64(5), object(1)\n",
      "memory usage: 256.0+ bytes\n"
     ]
    }
   ],
   "source": [
    "# Obteniendo información de \"df_megaline_plans\"\n",
    "df_megaline_plans.info()"
   ]
  },
  {
   "cell_type": "markdown",
   "id": "UHaqf4wwAolV",
   "metadata": {
    "id": "UHaqf4wwAolV"
   },
   "source": [
    "Esta tabla nos proporciona información de los planes que ofrece `Megaline` que son 2 y la información que nos proporciona es la siguiente:\n",
    "\n",
    "- `messages_included`: SMS incluidos al mes de tipo `int`.\n",
    "- `mb_per_month_included`: Datos incluidos al mes en megabytes del tipo `int`.\n",
    "- `minutes_included`: Minutos incluidos al mes del tipo `int`.\n",
    "- `usd_monthly_pay`: Pago en dolares mensual del tipo `int`.\n",
    "- `usd_per_gb`: Precio por gigabyte de los datos extra tras exceder los límites del paquete (1GB = 1024 megabytes) del tipo `int`.\n",
    "- `usd_per_message`: Precio por SMS tras exceder los límites del paquete del tipo `float`.\n",
    "- `usd_per_minute`: Precio por minuto tras exceder los límites del paquete del tipo `float`.\n",
    "- `plan_name`: Nombre de la tarifa del tipo `object = str`.\n",
    "\n",
    "Visualizaremos la tabla completa para familiarizarnos con ella.\n"
   ]
  },
  {
   "cell_type": "code",
   "execution_count": 9,
   "id": "Jzc8pLEoALvy",
   "metadata": {
    "colab": {
     "base_uri": "https://localhost:8080/",
     "height": 0
    },
    "id": "Jzc8pLEoALvy",
    "outputId": "e583b140-812d-4ef1-cd1a-aaa8532c045f"
   },
   "outputs": [
    {
     "data": {
      "text/html": [
       "<div>\n",
       "<style scoped>\n",
       "    .dataframe tbody tr th:only-of-type {\n",
       "        vertical-align: middle;\n",
       "    }\n",
       "\n",
       "    .dataframe tbody tr th {\n",
       "        vertical-align: top;\n",
       "    }\n",
       "\n",
       "    .dataframe thead th {\n",
       "        text-align: right;\n",
       "    }\n",
       "</style>\n",
       "<table border=\"1\" class=\"dataframe\">\n",
       "  <thead>\n",
       "    <tr style=\"text-align: right;\">\n",
       "      <th></th>\n",
       "      <th>messages_included</th>\n",
       "      <th>mb_per_month_included</th>\n",
       "      <th>minutes_included</th>\n",
       "      <th>usd_monthly_pay</th>\n",
       "      <th>usd_per_gb</th>\n",
       "      <th>usd_per_message</th>\n",
       "      <th>usd_per_minute</th>\n",
       "      <th>plan_name</th>\n",
       "    </tr>\n",
       "  </thead>\n",
       "  <tbody>\n",
       "    <tr>\n",
       "      <th>0</th>\n",
       "      <td>50</td>\n",
       "      <td>15360</td>\n",
       "      <td>500</td>\n",
       "      <td>20</td>\n",
       "      <td>10</td>\n",
       "      <td>0.03</td>\n",
       "      <td>0.03</td>\n",
       "      <td>surf</td>\n",
       "    </tr>\n",
       "    <tr>\n",
       "      <th>1</th>\n",
       "      <td>1000</td>\n",
       "      <td>30720</td>\n",
       "      <td>3000</td>\n",
       "      <td>70</td>\n",
       "      <td>7</td>\n",
       "      <td>0.01</td>\n",
       "      <td>0.01</td>\n",
       "      <td>ultimate</td>\n",
       "    </tr>\n",
       "  </tbody>\n",
       "</table>\n",
       "</div>"
      ],
      "text/plain": [
       "   messages_included  mb_per_month_included  minutes_included  \\\n",
       "0                 50                  15360               500   \n",
       "1               1000                  30720              3000   \n",
       "\n",
       "   usd_monthly_pay  usd_per_gb  usd_per_message  usd_per_minute plan_name  \n",
       "0               20          10             0.03            0.03      surf  \n",
       "1               70           7             0.01            0.01  ultimate  "
      ]
     },
     "execution_count": 9,
     "metadata": {},
     "output_type": "execute_result"
    }
   ],
   "source": [
    "# Visualizando \"df_megaline_plans\"\n",
    "df_megaline_plans"
   ]
  },
  {
   "cell_type": "markdown",
   "id": "zxfY-aOfOLQn",
   "metadata": {
    "id": "zxfY-aOfOLQn"
   },
   "source": [
    "Comenzaremos a trabajar con el resto de tablas que son `df_megaline_calls`, `df_megaline_internet` y `df_megaline_messages` que son los registros realizaros en el año 2018 de 500 usuarios para poder analizar su consumo dependiendo del plan con el que cuenten."
   ]
  },
  {
   "cell_type": "markdown",
   "id": "Djh9ZWF3OfKO",
   "metadata": {
    "id": "Djh9ZWF3OfKO"
   },
   "source": [
    "### Trabajando con \"df_megaline_calls\""
   ]
  },
  {
   "cell_type": "code",
   "execution_count": 10,
   "id": "Z8XgA8pmM8Jf",
   "metadata": {
    "colab": {
     "base_uri": "https://localhost:8080/"
    },
    "id": "Z8XgA8pmM8Jf",
    "outputId": "05069e6a-4125-41e4-e573-b3d6c8bc7625"
   },
   "outputs": [
    {
     "name": "stdout",
     "output_type": "stream",
     "text": [
      "<class 'pandas.core.frame.DataFrame'>\n",
      "RangeIndex: 137735 entries, 0 to 137734\n",
      "Data columns (total 4 columns):\n",
      " #   Column     Non-Null Count   Dtype  \n",
      "---  ------     --------------   -----  \n",
      " 0   id         137735 non-null  object \n",
      " 1   user_id    137735 non-null  int64  \n",
      " 2   call_date  137735 non-null  object \n",
      " 3   duration   137735 non-null  float64\n",
      "dtypes: float64(1), int64(1), object(2)\n",
      "memory usage: 4.2+ MB\n"
     ]
    }
   ],
   "source": [
    "# Obteniendo información de la tabla \"df_megaline_calls\"\n",
    "df_megaline_calls.info()"
   ]
  },
  {
   "cell_type": "markdown",
   "id": "Y_3F4IF8Orm2",
   "metadata": {
    "id": "Y_3F4IF8Orm2"
   },
   "source": [
    "Esta tabla nos explica el consumo de llamadas realizado por los usuarios por fecha, esta cuenta con distintas columnas que son:\n",
    "- `id`: Identificador único de llamada del tipo `object = str`.\n",
    "- `user_id`: Identificador del usuario que realiza la llamada del tipo `int`.\n",
    "- `call_date`: Fecha de la llamada del tipo `object = str` lo cual debería ser `datetime`.\n",
    "- `duration`: Duración de la llamada en minutos del tipo `float` que debería ser `int`.\n",
    "\n",
    "Como podemos concluir, hay dos columnas que tiene el tipo de dato incorrecto que son `call_date` y `duration`; para el caso de `call_date` se modificara el tipo de dato sin modificar los valores de la columna, sin embargo, para el caso de `duration` se debe aplicar la regla establecida por la empresa que dice que la duración de la llamada se redondeara al entero superior independientemente si la duración fue de 1 segundo, por ende, se aplicarán estos cambios."
   ]
  },
  {
   "cell_type": "code",
   "execution_count": 11,
   "id": "-URzMfcgOqz9",
   "metadata": {
    "colab": {
     "base_uri": "https://localhost:8080/"
    },
    "id": "-URzMfcgOqz9",
    "outputId": "f2360660-5164-4010-f84d-9de43204bdf3"
   },
   "outputs": [
    {
     "name": "stdout",
     "output_type": "stream",
     "text": [
      "<class 'pandas.core.frame.DataFrame'>\n",
      "RangeIndex: 137735 entries, 0 to 137734\n",
      "Data columns (total 4 columns):\n",
      " #   Column     Non-Null Count   Dtype         \n",
      "---  ------     --------------   -----         \n",
      " 0   id         137735 non-null  object        \n",
      " 1   user_id    137735 non-null  int64         \n",
      " 2   call_date  137735 non-null  datetime64[ns]\n",
      " 3   duration   137735 non-null  float64       \n",
      "dtypes: datetime64[ns](1), float64(1), int64(1), object(1)\n",
      "memory usage: 4.2+ MB\n"
     ]
    }
   ],
   "source": [
    "# Trabajando con la columna \"call_date\" de \"df_megaline_calls\"\n",
    "df_megaline_calls['call_date'] = pd.to_datetime(df_megaline_calls['call_date'],format=\"%Y-%m-%d\")\n",
    "df_megaline_calls.info()"
   ]
  },
  {
   "cell_type": "code",
   "execution_count": 12,
   "id": "HRzY-9MLSzip",
   "metadata": {
    "colab": {
     "base_uri": "https://localhost:8080/",
     "height": 0
    },
    "id": "HRzY-9MLSzip",
    "outputId": "484b9a2c-311c-4425-ab83-673ad049a1b4"
   },
   "outputs": [
    {
     "data": {
      "text/html": [
       "<div>\n",
       "<style scoped>\n",
       "    .dataframe tbody tr th:only-of-type {\n",
       "        vertical-align: middle;\n",
       "    }\n",
       "\n",
       "    .dataframe tbody tr th {\n",
       "        vertical-align: top;\n",
       "    }\n",
       "\n",
       "    .dataframe thead th {\n",
       "        text-align: right;\n",
       "    }\n",
       "</style>\n",
       "<table border=\"1\" class=\"dataframe\">\n",
       "  <thead>\n",
       "    <tr style=\"text-align: right;\">\n",
       "      <th></th>\n",
       "      <th>id</th>\n",
       "      <th>user_id</th>\n",
       "      <th>call_date</th>\n",
       "      <th>duration</th>\n",
       "    </tr>\n",
       "  </thead>\n",
       "  <tbody>\n",
       "    <tr>\n",
       "      <th>0</th>\n",
       "      <td>1000_93</td>\n",
       "      <td>1000</td>\n",
       "      <td>2018-12-27</td>\n",
       "      <td>8.52</td>\n",
       "    </tr>\n",
       "    <tr>\n",
       "      <th>1</th>\n",
       "      <td>1000_145</td>\n",
       "      <td>1000</td>\n",
       "      <td>2018-12-27</td>\n",
       "      <td>13.66</td>\n",
       "    </tr>\n",
       "    <tr>\n",
       "      <th>2</th>\n",
       "      <td>1000_247</td>\n",
       "      <td>1000</td>\n",
       "      <td>2018-12-27</td>\n",
       "      <td>14.48</td>\n",
       "    </tr>\n",
       "    <tr>\n",
       "      <th>3</th>\n",
       "      <td>1000_309</td>\n",
       "      <td>1000</td>\n",
       "      <td>2018-12-28</td>\n",
       "      <td>5.76</td>\n",
       "    </tr>\n",
       "    <tr>\n",
       "      <th>4</th>\n",
       "      <td>1000_380</td>\n",
       "      <td>1000</td>\n",
       "      <td>2018-12-30</td>\n",
       "      <td>4.22</td>\n",
       "    </tr>\n",
       "    <tr>\n",
       "      <th>...</th>\n",
       "      <td>...</td>\n",
       "      <td>...</td>\n",
       "      <td>...</td>\n",
       "      <td>...</td>\n",
       "    </tr>\n",
       "    <tr>\n",
       "      <th>137730</th>\n",
       "      <td>1499_199</td>\n",
       "      <td>1499</td>\n",
       "      <td>2018-11-21</td>\n",
       "      <td>8.72</td>\n",
       "    </tr>\n",
       "    <tr>\n",
       "      <th>137731</th>\n",
       "      <td>1499_200</td>\n",
       "      <td>1499</td>\n",
       "      <td>2018-10-20</td>\n",
       "      <td>10.89</td>\n",
       "    </tr>\n",
       "    <tr>\n",
       "      <th>137732</th>\n",
       "      <td>1499_201</td>\n",
       "      <td>1499</td>\n",
       "      <td>2018-09-21</td>\n",
       "      <td>8.12</td>\n",
       "    </tr>\n",
       "    <tr>\n",
       "      <th>137733</th>\n",
       "      <td>1499_202</td>\n",
       "      <td>1499</td>\n",
       "      <td>2018-10-10</td>\n",
       "      <td>0.37</td>\n",
       "    </tr>\n",
       "    <tr>\n",
       "      <th>137734</th>\n",
       "      <td>1499_203</td>\n",
       "      <td>1499</td>\n",
       "      <td>2018-12-29</td>\n",
       "      <td>13.86</td>\n",
       "    </tr>\n",
       "  </tbody>\n",
       "</table>\n",
       "<p>137735 rows × 4 columns</p>\n",
       "</div>"
      ],
      "text/plain": [
       "              id  user_id  call_date  duration\n",
       "0        1000_93     1000 2018-12-27      8.52\n",
       "1       1000_145     1000 2018-12-27     13.66\n",
       "2       1000_247     1000 2018-12-27     14.48\n",
       "3       1000_309     1000 2018-12-28      5.76\n",
       "4       1000_380     1000 2018-12-30      4.22\n",
       "...          ...      ...        ...       ...\n",
       "137730  1499_199     1499 2018-11-21      8.72\n",
       "137731  1499_200     1499 2018-10-20     10.89\n",
       "137732  1499_201     1499 2018-09-21      8.12\n",
       "137733  1499_202     1499 2018-10-10      0.37\n",
       "137734  1499_203     1499 2018-12-29     13.86\n",
       "\n",
       "[137735 rows x 4 columns]"
      ]
     },
     "execution_count": 12,
     "metadata": {},
     "output_type": "execute_result"
    }
   ],
   "source": [
    "# Imprimiendo la tabla para validar cambios\n",
    "df_megaline_calls"
   ]
  },
  {
   "cell_type": "code",
   "execution_count": 13,
   "id": "1a9dbff1",
   "metadata": {},
   "outputs": [
    {
     "data": {
      "text/html": [
       "<div>\n",
       "<style scoped>\n",
       "    .dataframe tbody tr th:only-of-type {\n",
       "        vertical-align: middle;\n",
       "    }\n",
       "\n",
       "    .dataframe tbody tr th {\n",
       "        vertical-align: top;\n",
       "    }\n",
       "\n",
       "    .dataframe thead th {\n",
       "        text-align: right;\n",
       "    }\n",
       "</style>\n",
       "<table border=\"1\" class=\"dataframe\">\n",
       "  <thead>\n",
       "    <tr style=\"text-align: right;\">\n",
       "      <th></th>\n",
       "      <th>id</th>\n",
       "      <th>user_id</th>\n",
       "      <th>call_date</th>\n",
       "      <th>duration</th>\n",
       "    </tr>\n",
       "  </thead>\n",
       "  <tbody>\n",
       "    <tr>\n",
       "      <th>0</th>\n",
       "      <td>1000_93</td>\n",
       "      <td>1000</td>\n",
       "      <td>2018-12-27</td>\n",
       "      <td>9.0</td>\n",
       "    </tr>\n",
       "    <tr>\n",
       "      <th>1</th>\n",
       "      <td>1000_145</td>\n",
       "      <td>1000</td>\n",
       "      <td>2018-12-27</td>\n",
       "      <td>14.0</td>\n",
       "    </tr>\n",
       "    <tr>\n",
       "      <th>2</th>\n",
       "      <td>1000_247</td>\n",
       "      <td>1000</td>\n",
       "      <td>2018-12-27</td>\n",
       "      <td>15.0</td>\n",
       "    </tr>\n",
       "    <tr>\n",
       "      <th>3</th>\n",
       "      <td>1000_309</td>\n",
       "      <td>1000</td>\n",
       "      <td>2018-12-28</td>\n",
       "      <td>6.0</td>\n",
       "    </tr>\n",
       "    <tr>\n",
       "      <th>4</th>\n",
       "      <td>1000_380</td>\n",
       "      <td>1000</td>\n",
       "      <td>2018-12-30</td>\n",
       "      <td>5.0</td>\n",
       "    </tr>\n",
       "    <tr>\n",
       "      <th>...</th>\n",
       "      <td>...</td>\n",
       "      <td>...</td>\n",
       "      <td>...</td>\n",
       "      <td>...</td>\n",
       "    </tr>\n",
       "    <tr>\n",
       "      <th>137730</th>\n",
       "      <td>1499_199</td>\n",
       "      <td>1499</td>\n",
       "      <td>2018-11-21</td>\n",
       "      <td>9.0</td>\n",
       "    </tr>\n",
       "    <tr>\n",
       "      <th>137731</th>\n",
       "      <td>1499_200</td>\n",
       "      <td>1499</td>\n",
       "      <td>2018-10-20</td>\n",
       "      <td>11.0</td>\n",
       "    </tr>\n",
       "    <tr>\n",
       "      <th>137732</th>\n",
       "      <td>1499_201</td>\n",
       "      <td>1499</td>\n",
       "      <td>2018-09-21</td>\n",
       "      <td>9.0</td>\n",
       "    </tr>\n",
       "    <tr>\n",
       "      <th>137733</th>\n",
       "      <td>1499_202</td>\n",
       "      <td>1499</td>\n",
       "      <td>2018-10-10</td>\n",
       "      <td>1.0</td>\n",
       "    </tr>\n",
       "    <tr>\n",
       "      <th>137734</th>\n",
       "      <td>1499_203</td>\n",
       "      <td>1499</td>\n",
       "      <td>2018-12-29</td>\n",
       "      <td>14.0</td>\n",
       "    </tr>\n",
       "  </tbody>\n",
       "</table>\n",
       "<p>137735 rows × 4 columns</p>\n",
       "</div>"
      ],
      "text/plain": [
       "              id  user_id  call_date  duration\n",
       "0        1000_93     1000 2018-12-27       9.0\n",
       "1       1000_145     1000 2018-12-27      14.0\n",
       "2       1000_247     1000 2018-12-27      15.0\n",
       "3       1000_309     1000 2018-12-28       6.0\n",
       "4       1000_380     1000 2018-12-30       5.0\n",
       "...          ...      ...        ...       ...\n",
       "137730  1499_199     1499 2018-11-21       9.0\n",
       "137731  1499_200     1499 2018-10-20      11.0\n",
       "137732  1499_201     1499 2018-09-21       9.0\n",
       "137733  1499_202     1499 2018-10-10       1.0\n",
       "137734  1499_203     1499 2018-12-29      14.0\n",
       "\n",
       "[137735 rows x 4 columns]"
      ]
     },
     "execution_count": 13,
     "metadata": {},
     "output_type": "execute_result"
    }
   ],
   "source": [
    "# Trabjando con la columna \"duration\" de \"df_megaline_calls\"\n",
    "df_megaline_calls['duration'] = np.ceil(df_megaline_calls['duration'])\n",
    "df_megaline_calls"
   ]
  },
  {
   "cell_type": "markdown",
   "id": "AYMQ5NP7qV6T",
   "metadata": {
    "id": "AYMQ5NP7qV6T"
   },
   "source": [
    "Continuaremos analizando la información contenida en nuestro DataFrame verficando si este cuenta con datos duplicados, o algún patrón o registro que deba ser preprocesado."
   ]
  },
  {
   "cell_type": "code",
   "execution_count": 14,
   "id": "T8zouLd6qqnx",
   "metadata": {
    "colab": {
     "base_uri": "https://localhost:8080/"
    },
    "id": "T8zouLd6qqnx",
    "outputId": "788756cb-849c-428a-abd0-a554918d5a68"
   },
   "outputs": [
    {
     "data": {
      "text/plain": [
       "0"
      ]
     },
     "execution_count": 14,
     "metadata": {},
     "output_type": "execute_result"
    }
   ],
   "source": [
    "# Verificando duplicidad de datos\n",
    "df_megaline_calls.duplicated().sum()"
   ]
  },
  {
   "cell_type": "markdown",
   "id": "SnTVw1AlUESP",
   "metadata": {
    "id": "SnTVw1AlUESP"
   },
   "source": [
    "En esta tabla no nos encontramos con registros duplicados. Para la tabla `df_megaline_messages` y `df_megaline_internet` continuaremos con su análizis."
   ]
  },
  {
   "cell_type": "markdown",
   "id": "hiJpBUbxUWgo",
   "metadata": {
    "id": "hiJpBUbxUWgo"
   },
   "source": [
    "### Trabajando con \"df_megaline_messages\""
   ]
  },
  {
   "cell_type": "code",
   "execution_count": 15,
   "id": "cJb-NK0PS9mG",
   "metadata": {
    "colab": {
     "base_uri": "https://localhost:8080/"
    },
    "id": "cJb-NK0PS9mG",
    "outputId": "c8c3f7e9-f88c-44a6-ed4d-748f2e4e11c8"
   },
   "outputs": [
    {
     "name": "stdout",
     "output_type": "stream",
     "text": [
      "<class 'pandas.core.frame.DataFrame'>\n",
      "RangeIndex: 76051 entries, 0 to 76050\n",
      "Data columns (total 3 columns):\n",
      " #   Column        Non-Null Count  Dtype \n",
      "---  ------        --------------  ----- \n",
      " 0   id            76051 non-null  object\n",
      " 1   user_id       76051 non-null  int64 \n",
      " 2   message_date  76051 non-null  object\n",
      "dtypes: int64(1), object(2)\n",
      "memory usage: 1.7+ MB\n"
     ]
    }
   ],
   "source": [
    "# Obteniendo información de \"df_megaline_messages\"\n",
    "df_megaline_messages.info()"
   ]
  },
  {
   "cell_type": "markdown",
   "id": "j6_zWCdkUjJe",
   "metadata": {
    "id": "j6_zWCdkUjJe"
   },
   "source": [
    "Esta tabla cuenta con `76051` mensajes registrados y las columnas que tiene son: \n",
    "- `id`: Identificador único del mensaje del tipo `object = str`.\n",
    "- `user_id`: Identificador del usuario que manda el SMS tel tipo `int`.\n",
    "- `message_date`: Fecha del SMS del tipo `object = str` que debería ser `datetime`.\n",
    "\n",
    "Trabajaremos con la columna `message_date` para asignarle el tipo de dato correcto."
   ]
  },
  {
   "cell_type": "code",
   "execution_count": 16,
   "id": "6LmjnCKXQomP",
   "metadata": {
    "colab": {
     "base_uri": "https://localhost:8080/",
     "height": 0
    },
    "id": "6LmjnCKXQomP",
    "outputId": "d8e68a9d-b4b8-46ec-9d9d-4c8e2100b369"
   },
   "outputs": [
    {
     "data": {
      "text/html": [
       "<div>\n",
       "<style scoped>\n",
       "    .dataframe tbody tr th:only-of-type {\n",
       "        vertical-align: middle;\n",
       "    }\n",
       "\n",
       "    .dataframe tbody tr th {\n",
       "        vertical-align: top;\n",
       "    }\n",
       "\n",
       "    .dataframe thead th {\n",
       "        text-align: right;\n",
       "    }\n",
       "</style>\n",
       "<table border=\"1\" class=\"dataframe\">\n",
       "  <thead>\n",
       "    <tr style=\"text-align: right;\">\n",
       "      <th></th>\n",
       "      <th>id</th>\n",
       "      <th>user_id</th>\n",
       "      <th>message_date</th>\n",
       "    </tr>\n",
       "  </thead>\n",
       "  <tbody>\n",
       "    <tr>\n",
       "      <th>0</th>\n",
       "      <td>1000_125</td>\n",
       "      <td>1000</td>\n",
       "      <td>2018-12-27</td>\n",
       "    </tr>\n",
       "    <tr>\n",
       "      <th>1</th>\n",
       "      <td>1000_160</td>\n",
       "      <td>1000</td>\n",
       "      <td>2018-12-31</td>\n",
       "    </tr>\n",
       "    <tr>\n",
       "      <th>2</th>\n",
       "      <td>1000_223</td>\n",
       "      <td>1000</td>\n",
       "      <td>2018-12-31</td>\n",
       "    </tr>\n",
       "    <tr>\n",
       "      <th>3</th>\n",
       "      <td>1000_251</td>\n",
       "      <td>1000</td>\n",
       "      <td>2018-12-27</td>\n",
       "    </tr>\n",
       "    <tr>\n",
       "      <th>4</th>\n",
       "      <td>1000_255</td>\n",
       "      <td>1000</td>\n",
       "      <td>2018-12-26</td>\n",
       "    </tr>\n",
       "  </tbody>\n",
       "</table>\n",
       "</div>"
      ],
      "text/plain": [
       "         id  user_id message_date\n",
       "0  1000_125     1000   2018-12-27\n",
       "1  1000_160     1000   2018-12-31\n",
       "2  1000_223     1000   2018-12-31\n",
       "3  1000_251     1000   2018-12-27\n",
       "4  1000_255     1000   2018-12-26"
      ]
     },
     "execution_count": 16,
     "metadata": {},
     "output_type": "execute_result"
    }
   ],
   "source": [
    "# Verificando los datos de \"df_megaline_messages\"\n",
    "df_megaline_messages.head()"
   ]
  },
  {
   "cell_type": "code",
   "execution_count": 17,
   "id": "0cgtInYvUf-S",
   "metadata": {
    "colab": {
     "base_uri": "https://localhost:8080/"
    },
    "id": "0cgtInYvUf-S",
    "outputId": "1702e094-98c1-4d73-e96c-05f5fa2d41d7"
   },
   "outputs": [
    {
     "name": "stdout",
     "output_type": "stream",
     "text": [
      "<class 'pandas.core.frame.DataFrame'>\n",
      "RangeIndex: 76051 entries, 0 to 76050\n",
      "Data columns (total 3 columns):\n",
      " #   Column        Non-Null Count  Dtype         \n",
      "---  ------        --------------  -----         \n",
      " 0   id            76051 non-null  object        \n",
      " 1   user_id       76051 non-null  int64         \n",
      " 2   message_date  76051 non-null  datetime64[ns]\n",
      "dtypes: datetime64[ns](1), int64(1), object(1)\n",
      "memory usage: 1.7+ MB\n"
     ]
    }
   ],
   "source": [
    "# Trabajando con la columna \"message_date\"\n",
    "df_megaline_messages['message_date'] = pd.to_datetime(df_megaline_messages['message_date'],format=\"%Y-%m-%d\")\n",
    "df_megaline_messages.info()"
   ]
  },
  {
   "cell_type": "markdown",
   "id": "nCAvotjNVVxu",
   "metadata": {
    "id": "nCAvotjNVVxu"
   },
   "source": [
    "Profundizaremos en los datos para validar que se encuentren en la mejor condición posible."
   ]
  },
  {
   "cell_type": "code",
   "execution_count": 18,
   "id": "eb3svLaJVeXR",
   "metadata": {
    "colab": {
     "base_uri": "https://localhost:8080/"
    },
    "id": "eb3svLaJVeXR",
    "outputId": "e28eb49c-8ce4-4e7a-f581-97c93a96d430"
   },
   "outputs": [
    {
     "data": {
      "text/plain": [
       "0"
      ]
     },
     "execution_count": 18,
     "metadata": {},
     "output_type": "execute_result"
    }
   ],
   "source": [
    "# Verificando duplicidad de datos\n",
    "df_megaline_messages.duplicated().sum()"
   ]
  },
  {
   "cell_type": "markdown",
   "id": "Oo4NdDBRVdvI",
   "metadata": {
    "id": "Oo4NdDBRVdvI"
   },
   "source": [
    "### Trabajando con \"df_megaline_internet\""
   ]
  },
  {
   "cell_type": "code",
   "execution_count": 19,
   "id": "69PqUfbdVZMQ",
   "metadata": {
    "colab": {
     "base_uri": "https://localhost:8080/"
    },
    "id": "69PqUfbdVZMQ",
    "outputId": "5f07a3c0-1bf6-484f-c4b0-9152d354226a"
   },
   "outputs": [
    {
     "name": "stdout",
     "output_type": "stream",
     "text": [
      "<class 'pandas.core.frame.DataFrame'>\n",
      "RangeIndex: 104825 entries, 0 to 104824\n",
      "Data columns (total 4 columns):\n",
      " #   Column        Non-Null Count   Dtype  \n",
      "---  ------        --------------   -----  \n",
      " 0   id            104825 non-null  object \n",
      " 1   user_id       104825 non-null  int64  \n",
      " 2   session_date  104825 non-null  object \n",
      " 3   mb_used       104825 non-null  float64\n",
      "dtypes: float64(1), int64(1), object(2)\n",
      "memory usage: 3.2+ MB\n"
     ]
    }
   ],
   "source": [
    "# Obteniendo información de \"df_megaline_internet\"\n",
    "df_megaline_internet.info()"
   ]
  },
  {
   "cell_type": "markdown",
   "id": "BJ6u9sd9VwMn",
   "metadata": {
    "id": "BJ6u9sd9VwMn"
   },
   "source": [
    "De acuerdo con la información en esta tabla tenemos lo siguiente:\n",
    "- `id`: Identificador único de la sesión del tipo `object = str`.\n",
    "- `user_id`: Identificador del usuario del tipo `int`.\n",
    "- `session_date`: Fecha de la sesión web del tipo `object = str` que debería ser del tipo `datetime`.\n",
    "- `mb_used`: El volumen de datos gastados durante la sesión en megabytes del tipo `float`.\n",
    "\n",
    "De esta información podemos destacar una cosa, si bien una de las reglas de la empresa menciona que el consumo se debe ajustar a finales de mes de acuerdo con lo consumido durante el mismo, de momento no vamos a trabajar con la columna `mb_used` esto es porque, para hacer cumplir dicha regla, los consumos descritos en esta columna deben ser sumados al mes y es aquí donde se debe hacer el redondeo.\n",
    "\n",
    "Respecto a la columna `session_date`, esta debe ser modificada en el tipo de dato que la rige."
   ]
  },
  {
   "cell_type": "code",
   "execution_count": 20,
   "id": "Uexr2ho7Vrps",
   "metadata": {
    "colab": {
     "base_uri": "https://localhost:8080/"
    },
    "id": "Uexr2ho7Vrps",
    "outputId": "4e49104e-99a8-4a1a-9d05-2c031772a3dd"
   },
   "outputs": [
    {
     "name": "stdout",
     "output_type": "stream",
     "text": [
      "<class 'pandas.core.frame.DataFrame'>\n",
      "RangeIndex: 104825 entries, 0 to 104824\n",
      "Data columns (total 4 columns):\n",
      " #   Column        Non-Null Count   Dtype         \n",
      "---  ------        --------------   -----         \n",
      " 0   id            104825 non-null  object        \n",
      " 1   user_id       104825 non-null  int64         \n",
      " 2   session_date  104825 non-null  datetime64[ns]\n",
      " 3   mb_used       104825 non-null  float64       \n",
      "dtypes: datetime64[ns](1), float64(1), int64(1), object(1)\n",
      "memory usage: 3.2+ MB\n"
     ]
    }
   ],
   "source": [
    "# Trabajando con la columna \"session_date\"\n",
    "df_megaline_internet['session_date'] = pd.to_datetime(df_megaline_internet['session_date'],format=\"%Y-%m-%d\")\n",
    "df_megaline_internet.info()"
   ]
  },
  {
   "cell_type": "code",
   "execution_count": 21,
   "id": "PBfPSn6mW72t",
   "metadata": {
    "colab": {
     "base_uri": "https://localhost:8080/"
    },
    "id": "PBfPSn6mW72t",
    "outputId": "eb3ce7e7-8dc6-4fcd-90ae-c8840afef200"
   },
   "outputs": [
    {
     "data": {
      "text/plain": [
       "0"
      ]
     },
     "execution_count": 21,
     "metadata": {},
     "output_type": "execute_result"
    }
   ],
   "source": [
    "# Verificando duplicidad de datos\n",
    "df_megaline_internet.duplicated().sum()"
   ]
  },
  {
   "cell_type": "markdown",
   "id": "g5CfpP6gV51D",
   "metadata": {
    "id": "g5CfpP6gV51D"
   },
   "source": [
    "Hasta este punto podemos decir que las tablas tienen el tipo de dato correcto en todas sus columnas. Las reglas de `Megaline` para el caso de las llamadas en la columna `duration` han sido aplicadas considerando los siguientes casos:\n",
    "- Los registros con duración de 0.0 se han ajustado a 0.\n",
    "- Los registros que tienen duración entera (ejemplo 1.0, 2.0, etc) se han ajustado a su valor entero unicamente.\n",
    "- Los registros que tienen un duración con decimales (segundos en dado caso) se han redondeado al valor entero superior.\n",
    "\n",
    "Respecto a las llamadas que tienen una duración de `0` se decidió seguir trabajando con estos datos de manera intacta de momento puesto que al final no representaría sesgo al momento de generar las facturas mensuales, si se requiere alguan adaptación posteriomente, esta se hará de manera justificada."
   ]
  },
  {
   "cell_type": "markdown",
   "id": "Z0sYIQaeXxJN",
   "metadata": {
    "id": "Z0sYIQaeXxJN"
   },
   "source": [
    "### Generación de concentrado de información de tarifas mensuales para cada usuario"
   ]
  },
  {
   "cell_type": "markdown",
   "id": "pdPqbiycX9ss",
   "metadata": {
    "id": "pdPqbiycX9ss"
   },
   "source": [
    "Con la intención de concentrar los datos tarifarios de cada usuario, crearemos un nuevo dataframe llamado `df_megaline_rate` con las siguientes características:\n",
    "- `total_number_calls`: Número de llamadas realizadas durante el mes del tipo `int`.\n",
    "- `total_minutes_calls`: Total de minutos utilizados durante el mes del tipo `int`.\n",
    "- `total_number_sms`: Cantidad de mensajes enviados durante el mes del tipo `int`.\n",
    "- `total_volume_internet`: Volumen de datos por mes del tipo `float`.\n",
    "- `total`: Los ingresos mensuales por cada usuario, este se obtendrá restando el límite de los paquetes correspondientes del excedente de consumo del usuario multiplicandolo por la tarifa correspondiente y sumando todo al final; este dato será del tipo `float`.\n",
    "- `id_total`: Identificador de tarifa por usuario.\n",
    "\n",
    "Para poder trabajar con `id_total` primero lo trabajaremos de forma separada pero este estará compuesto por el `user_id` y el mes de facturación."
   ]
  },
  {
   "cell_type": "code",
   "execution_count": 22,
   "id": "cK0-M2y0V4yM",
   "metadata": {
    "id": "cK0-M2y0V4yM"
   },
   "outputs": [],
   "source": [
    "# Creando \"id_total\" en dos partes para \"df_megaline_rate\"\n",
    "users = df_megaline_users['user_id'].unique()\n",
    "months = list(range(1,13))\n",
    "users_total = []\n",
    "months_total = []\n",
    "for user in users:\n",
    "    for month in months:\n",
    "        users_total.append(int(user))\n",
    "        months_total.append(int(month))\n",
    "\n",
    "df_megaline_rate = pd.DataFrame({'users_total':users_total,'months_total':months_total})"
   ]
  },
  {
   "cell_type": "markdown",
   "id": "p8okvNA_HmcN",
   "metadata": {
    "id": "p8okvNA_HmcN"
   },
   "source": [
    "Como podemos observar en el resultado, contamos con un nuevo dataframe de tarifas con un total de `6000` registros, los cuales estan regidos por las columnas `users_total` y `months_total`.\n",
    "\n",
    "Comenzaremos creando la columna `total_number_calls` para `df_megaline_rate`."
   ]
  },
  {
   "cell_type": "code",
   "execution_count": 23,
   "id": "9365f031",
   "metadata": {},
   "outputs": [
    {
     "data": {
      "text/html": [
       "<div>\n",
       "<style scoped>\n",
       "    .dataframe tbody tr th:only-of-type {\n",
       "        vertical-align: middle;\n",
       "    }\n",
       "\n",
       "    .dataframe tbody tr th {\n",
       "        vertical-align: top;\n",
       "    }\n",
       "\n",
       "    .dataframe thead th {\n",
       "        text-align: right;\n",
       "    }\n",
       "</style>\n",
       "<table border=\"1\" class=\"dataframe\">\n",
       "  <thead>\n",
       "    <tr style=\"text-align: right;\">\n",
       "      <th></th>\n",
       "      <th></th>\n",
       "      <th>total_number_calls</th>\n",
       "      <th>total_minutes_calls</th>\n",
       "    </tr>\n",
       "    <tr>\n",
       "      <th>user_id</th>\n",
       "      <th>month</th>\n",
       "      <th></th>\n",
       "      <th></th>\n",
       "    </tr>\n",
       "  </thead>\n",
       "  <tbody>\n",
       "    <tr>\n",
       "      <th>1000</th>\n",
       "      <th>12</th>\n",
       "      <td>16</td>\n",
       "      <td>124.0</td>\n",
       "    </tr>\n",
       "    <tr>\n",
       "      <th rowspan=\"4\" valign=\"top\">1001</th>\n",
       "      <th>8</th>\n",
       "      <td>27</td>\n",
       "      <td>182.0</td>\n",
       "    </tr>\n",
       "    <tr>\n",
       "      <th>9</th>\n",
       "      <td>49</td>\n",
       "      <td>315.0</td>\n",
       "    </tr>\n",
       "    <tr>\n",
       "      <th>10</th>\n",
       "      <td>65</td>\n",
       "      <td>393.0</td>\n",
       "    </tr>\n",
       "    <tr>\n",
       "      <th>11</th>\n",
       "      <td>64</td>\n",
       "      <td>426.0</td>\n",
       "    </tr>\n",
       "    <tr>\n",
       "      <th>...</th>\n",
       "      <th>...</th>\n",
       "      <td>...</td>\n",
       "      <td>...</td>\n",
       "    </tr>\n",
       "    <tr>\n",
       "      <th>1498</th>\n",
       "      <th>12</th>\n",
       "      <td>39</td>\n",
       "      <td>339.0</td>\n",
       "    </tr>\n",
       "    <tr>\n",
       "      <th rowspan=\"4\" valign=\"top\">1499</th>\n",
       "      <th>9</th>\n",
       "      <td>41</td>\n",
       "      <td>346.0</td>\n",
       "    </tr>\n",
       "    <tr>\n",
       "      <th>10</th>\n",
       "      <td>53</td>\n",
       "      <td>385.0</td>\n",
       "    </tr>\n",
       "    <tr>\n",
       "      <th>11</th>\n",
       "      <td>45</td>\n",
       "      <td>308.0</td>\n",
       "    </tr>\n",
       "    <tr>\n",
       "      <th>12</th>\n",
       "      <td>65</td>\n",
       "      <td>496.0</td>\n",
       "    </tr>\n",
       "  </tbody>\n",
       "</table>\n",
       "<p>2258 rows × 2 columns</p>\n",
       "</div>"
      ],
      "text/plain": [
       "               total_number_calls  total_minutes_calls\n",
       "user_id month                                         \n",
       "1000    12                     16                124.0\n",
       "1001    8                      27                182.0\n",
       "        9                      49                315.0\n",
       "        10                     65                393.0\n",
       "        11                     64                426.0\n",
       "...                           ...                  ...\n",
       "1498    12                     39                339.0\n",
       "1499    9                      41                346.0\n",
       "        10                     53                385.0\n",
       "        11                     45                308.0\n",
       "        12                     65                496.0\n",
       "\n",
       "[2258 rows x 2 columns]"
      ]
     },
     "execution_count": 23,
     "metadata": {},
     "output_type": "execute_result"
    }
   ],
   "source": [
    "# Creando \"total_number_calls\" y \"total_minutes_calls\" para la tabla \"calls\"\n",
    "df_megaline_calls['month'] = df_megaline_calls['call_date'].dt.month\n",
    "calls = df_megaline_calls.pivot_table(index=['user_id','month'],values='duration',aggfunc=['count','sum'])\n",
    "calls.columns = ['total_number_calls','total_minutes_calls']\n",
    "calls\n"
   ]
  },
  {
   "cell_type": "code",
   "execution_count": 24,
   "id": "4ebfe840",
   "metadata": {},
   "outputs": [
    {
     "data": {
      "text/html": [
       "<div>\n",
       "<style scoped>\n",
       "    .dataframe tbody tr th:only-of-type {\n",
       "        vertical-align: middle;\n",
       "    }\n",
       "\n",
       "    .dataframe tbody tr th {\n",
       "        vertical-align: top;\n",
       "    }\n",
       "\n",
       "    .dataframe thead th {\n",
       "        text-align: right;\n",
       "    }\n",
       "</style>\n",
       "<table border=\"1\" class=\"dataframe\">\n",
       "  <thead>\n",
       "    <tr style=\"text-align: right;\">\n",
       "      <th></th>\n",
       "      <th></th>\n",
       "      <th>total_number_sms</th>\n",
       "    </tr>\n",
       "    <tr>\n",
       "      <th>user_id</th>\n",
       "      <th>month</th>\n",
       "      <th></th>\n",
       "    </tr>\n",
       "  </thead>\n",
       "  <tbody>\n",
       "    <tr>\n",
       "      <th>1000</th>\n",
       "      <th>12</th>\n",
       "      <td>11</td>\n",
       "    </tr>\n",
       "    <tr>\n",
       "      <th rowspan=\"4\" valign=\"top\">1001</th>\n",
       "      <th>8</th>\n",
       "      <td>30</td>\n",
       "    </tr>\n",
       "    <tr>\n",
       "      <th>9</th>\n",
       "      <td>44</td>\n",
       "    </tr>\n",
       "    <tr>\n",
       "      <th>10</th>\n",
       "      <td>53</td>\n",
       "    </tr>\n",
       "    <tr>\n",
       "      <th>11</th>\n",
       "      <td>36</td>\n",
       "    </tr>\n",
       "    <tr>\n",
       "      <th>...</th>\n",
       "      <th>...</th>\n",
       "      <td>...</td>\n",
       "    </tr>\n",
       "    <tr>\n",
       "      <th rowspan=\"4\" valign=\"top\">1496</th>\n",
       "      <th>9</th>\n",
       "      <td>21</td>\n",
       "    </tr>\n",
       "    <tr>\n",
       "      <th>10</th>\n",
       "      <td>18</td>\n",
       "    </tr>\n",
       "    <tr>\n",
       "      <th>11</th>\n",
       "      <td>13</td>\n",
       "    </tr>\n",
       "    <tr>\n",
       "      <th>12</th>\n",
       "      <td>11</td>\n",
       "    </tr>\n",
       "    <tr>\n",
       "      <th>1497</th>\n",
       "      <th>12</th>\n",
       "      <td>50</td>\n",
       "    </tr>\n",
       "  </tbody>\n",
       "</table>\n",
       "<p>1806 rows × 1 columns</p>\n",
       "</div>"
      ],
      "text/plain": [
       "               total_number_sms\n",
       "user_id month                  \n",
       "1000    12                   11\n",
       "1001    8                    30\n",
       "        9                    44\n",
       "        10                   53\n",
       "        11                   36\n",
       "...                         ...\n",
       "1496    9                    21\n",
       "        10                   18\n",
       "        11                   13\n",
       "        12                   11\n",
       "1497    12                   50\n",
       "\n",
       "[1806 rows x 1 columns]"
      ]
     },
     "execution_count": 24,
     "metadata": {},
     "output_type": "execute_result"
    }
   ],
   "source": [
    "# Creando \"total_number_sms\" para la tabla \"messages\"\n",
    "df_megaline_messages['month'] = df_megaline_messages['message_date'].dt.month\n",
    "messages = df_megaline_messages.pivot_table(index=['user_id','month'],values='id',aggfunc='count')\n",
    "messages.columns = ['total_number_sms']\n",
    "messages"
   ]
  },
  {
   "cell_type": "code",
   "execution_count": 25,
   "id": "2d30863d",
   "metadata": {},
   "outputs": [
    {
     "data": {
      "text/html": [
       "<div>\n",
       "<style scoped>\n",
       "    .dataframe tbody tr th:only-of-type {\n",
       "        vertical-align: middle;\n",
       "    }\n",
       "\n",
       "    .dataframe tbody tr th {\n",
       "        vertical-align: top;\n",
       "    }\n",
       "\n",
       "    .dataframe thead th {\n",
       "        text-align: right;\n",
       "    }\n",
       "</style>\n",
       "<table border=\"1\" class=\"dataframe\">\n",
       "  <thead>\n",
       "    <tr style=\"text-align: right;\">\n",
       "      <th></th>\n",
       "      <th></th>\n",
       "      <th>total_volume_internet</th>\n",
       "    </tr>\n",
       "    <tr>\n",
       "      <th>user_id</th>\n",
       "      <th>month</th>\n",
       "      <th></th>\n",
       "    </tr>\n",
       "  </thead>\n",
       "  <tbody>\n",
       "    <tr>\n",
       "      <th>1000</th>\n",
       "      <th>12</th>\n",
       "      <td>1901.47</td>\n",
       "    </tr>\n",
       "    <tr>\n",
       "      <th rowspan=\"4\" valign=\"top\">1001</th>\n",
       "      <th>8</th>\n",
       "      <td>6919.15</td>\n",
       "    </tr>\n",
       "    <tr>\n",
       "      <th>9</th>\n",
       "      <td>13314.82</td>\n",
       "    </tr>\n",
       "    <tr>\n",
       "      <th>10</th>\n",
       "      <td>22330.49</td>\n",
       "    </tr>\n",
       "    <tr>\n",
       "      <th>11</th>\n",
       "      <td>18504.30</td>\n",
       "    </tr>\n",
       "    <tr>\n",
       "      <th>...</th>\n",
       "      <th>...</th>\n",
       "      <td>...</td>\n",
       "    </tr>\n",
       "    <tr>\n",
       "      <th>1498</th>\n",
       "      <th>12</th>\n",
       "      <td>23137.69</td>\n",
       "    </tr>\n",
       "    <tr>\n",
       "      <th rowspan=\"4\" valign=\"top\">1499</th>\n",
       "      <th>9</th>\n",
       "      <td>12984.76</td>\n",
       "    </tr>\n",
       "    <tr>\n",
       "      <th>10</th>\n",
       "      <td>19492.43</td>\n",
       "    </tr>\n",
       "    <tr>\n",
       "      <th>11</th>\n",
       "      <td>16813.83</td>\n",
       "    </tr>\n",
       "    <tr>\n",
       "      <th>12</th>\n",
       "      <td>22059.21</td>\n",
       "    </tr>\n",
       "  </tbody>\n",
       "</table>\n",
       "<p>2277 rows × 1 columns</p>\n",
       "</div>"
      ],
      "text/plain": [
       "               total_volume_internet\n",
       "user_id month                       \n",
       "1000    12                   1901.47\n",
       "1001    8                    6919.15\n",
       "        9                   13314.82\n",
       "        10                  22330.49\n",
       "        11                  18504.30\n",
       "...                              ...\n",
       "1498    12                  23137.69\n",
       "1499    9                   12984.76\n",
       "        10                  19492.43\n",
       "        11                  16813.83\n",
       "        12                  22059.21\n",
       "\n",
       "[2277 rows x 1 columns]"
      ]
     },
     "execution_count": 25,
     "metadata": {},
     "output_type": "execute_result"
    }
   ],
   "source": [
    "# Creando \"total_volume_internet\" para la tabla \"internet\"\n",
    "df_megaline_internet['month'] = df_megaline_internet['session_date'].dt.month\n",
    "internet = df_megaline_internet.pivot_table(index=['user_id','month'],values='mb_used',aggfunc='sum')\n",
    "internet.columns = ['total_volume_internet']\n",
    "internet\n"
   ]
  },
  {
   "cell_type": "code",
   "execution_count": 26,
   "id": "3b705ac7",
   "metadata": {},
   "outputs": [],
   "source": [
    "# Creando \"users_total\", \"plan\" para la tabla users\n",
    "users = df_megaline_users.loc[:,['user_id','plan']]"
   ]
  },
  {
   "cell_type": "code",
   "execution_count": 27,
   "id": "4dd337ab",
   "metadata": {},
   "outputs": [
    {
     "data": {
      "text/html": [
       "<div>\n",
       "<style scoped>\n",
       "    .dataframe tbody tr th:only-of-type {\n",
       "        vertical-align: middle;\n",
       "    }\n",
       "\n",
       "    .dataframe tbody tr th {\n",
       "        vertical-align: top;\n",
       "    }\n",
       "\n",
       "    .dataframe thead th {\n",
       "        text-align: right;\n",
       "    }\n",
       "</style>\n",
       "<table border=\"1\" class=\"dataframe\">\n",
       "  <thead>\n",
       "    <tr style=\"text-align: right;\">\n",
       "      <th></th>\n",
       "      <th>user_id</th>\n",
       "      <th>month</th>\n",
       "      <th>total_number_calls</th>\n",
       "      <th>total_minutes_calls</th>\n",
       "      <th>total_number_sms</th>\n",
       "      <th>total_volume_internet</th>\n",
       "      <th>plan</th>\n",
       "    </tr>\n",
       "  </thead>\n",
       "  <tbody>\n",
       "    <tr>\n",
       "      <th>0</th>\n",
       "      <td>1000</td>\n",
       "      <td>12.0</td>\n",
       "      <td>16.0</td>\n",
       "      <td>124.0</td>\n",
       "      <td>11.0</td>\n",
       "      <td>1901.47</td>\n",
       "      <td>ultimate</td>\n",
       "    </tr>\n",
       "    <tr>\n",
       "      <th>1</th>\n",
       "      <td>1001</td>\n",
       "      <td>8.0</td>\n",
       "      <td>27.0</td>\n",
       "      <td>182.0</td>\n",
       "      <td>30.0</td>\n",
       "      <td>6919.15</td>\n",
       "      <td>surf</td>\n",
       "    </tr>\n",
       "    <tr>\n",
       "      <th>2</th>\n",
       "      <td>1001</td>\n",
       "      <td>9.0</td>\n",
       "      <td>49.0</td>\n",
       "      <td>315.0</td>\n",
       "      <td>44.0</td>\n",
       "      <td>13314.82</td>\n",
       "      <td>surf</td>\n",
       "    </tr>\n",
       "    <tr>\n",
       "      <th>3</th>\n",
       "      <td>1001</td>\n",
       "      <td>10.0</td>\n",
       "      <td>65.0</td>\n",
       "      <td>393.0</td>\n",
       "      <td>53.0</td>\n",
       "      <td>22330.49</td>\n",
       "      <td>surf</td>\n",
       "    </tr>\n",
       "    <tr>\n",
       "      <th>4</th>\n",
       "      <td>1001</td>\n",
       "      <td>11.0</td>\n",
       "      <td>64.0</td>\n",
       "      <td>426.0</td>\n",
       "      <td>36.0</td>\n",
       "      <td>18504.30</td>\n",
       "      <td>surf</td>\n",
       "    </tr>\n",
       "    <tr>\n",
       "      <th>...</th>\n",
       "      <td>...</td>\n",
       "      <td>...</td>\n",
       "      <td>...</td>\n",
       "      <td>...</td>\n",
       "      <td>...</td>\n",
       "      <td>...</td>\n",
       "      <td>...</td>\n",
       "    </tr>\n",
       "    <tr>\n",
       "      <th>2298</th>\n",
       "      <td>1307</td>\n",
       "      <td>NaN</td>\n",
       "      <td>NaN</td>\n",
       "      <td>NaN</td>\n",
       "      <td>NaN</td>\n",
       "      <td>NaN</td>\n",
       "      <td>surf</td>\n",
       "    </tr>\n",
       "    <tr>\n",
       "      <th>2299</th>\n",
       "      <td>1319</td>\n",
       "      <td>NaN</td>\n",
       "      <td>NaN</td>\n",
       "      <td>NaN</td>\n",
       "      <td>NaN</td>\n",
       "      <td>NaN</td>\n",
       "      <td>surf</td>\n",
       "    </tr>\n",
       "    <tr>\n",
       "      <th>2300</th>\n",
       "      <td>1378</td>\n",
       "      <td>NaN</td>\n",
       "      <td>NaN</td>\n",
       "      <td>NaN</td>\n",
       "      <td>NaN</td>\n",
       "      <td>NaN</td>\n",
       "      <td>surf</td>\n",
       "    </tr>\n",
       "    <tr>\n",
       "      <th>2301</th>\n",
       "      <td>1463</td>\n",
       "      <td>NaN</td>\n",
       "      <td>NaN</td>\n",
       "      <td>NaN</td>\n",
       "      <td>NaN</td>\n",
       "      <td>NaN</td>\n",
       "      <td>ultimate</td>\n",
       "    </tr>\n",
       "    <tr>\n",
       "      <th>2302</th>\n",
       "      <td>1473</td>\n",
       "      <td>NaN</td>\n",
       "      <td>NaN</td>\n",
       "      <td>NaN</td>\n",
       "      <td>NaN</td>\n",
       "      <td>NaN</td>\n",
       "      <td>surf</td>\n",
       "    </tr>\n",
       "  </tbody>\n",
       "</table>\n",
       "<p>2303 rows × 7 columns</p>\n",
       "</div>"
      ],
      "text/plain": [
       "      user_id  month  total_number_calls  total_minutes_calls  \\\n",
       "0        1000   12.0                16.0                124.0   \n",
       "1        1001    8.0                27.0                182.0   \n",
       "2        1001    9.0                49.0                315.0   \n",
       "3        1001   10.0                65.0                393.0   \n",
       "4        1001   11.0                64.0                426.0   \n",
       "...       ...    ...                 ...                  ...   \n",
       "2298     1307    NaN                 NaN                  NaN   \n",
       "2299     1319    NaN                 NaN                  NaN   \n",
       "2300     1378    NaN                 NaN                  NaN   \n",
       "2301     1463    NaN                 NaN                  NaN   \n",
       "2302     1473    NaN                 NaN                  NaN   \n",
       "\n",
       "      total_number_sms  total_volume_internet      plan  \n",
       "0                 11.0                1901.47  ultimate  \n",
       "1                 30.0                6919.15      surf  \n",
       "2                 44.0               13314.82      surf  \n",
       "3                 53.0               22330.49      surf  \n",
       "4                 36.0               18504.30      surf  \n",
       "...                ...                    ...       ...  \n",
       "2298               NaN                    NaN      surf  \n",
       "2299               NaN                    NaN      surf  \n",
       "2300               NaN                    NaN      surf  \n",
       "2301               NaN                    NaN  ultimate  \n",
       "2302               NaN                    NaN      surf  \n",
       "\n",
       "[2303 rows x 7 columns]"
      ]
     },
     "execution_count": 27,
     "metadata": {},
     "output_type": "execute_result"
    }
   ],
   "source": [
    "# Uniendo las tablas \"calls\", \"messages\", \"internet\" y \"users\" para crear \"df_megaline_rate\"\n",
    "df_megaline_rate = calls.merge(messages,how='outer',on=['user_id','month'])\n",
    "df_megaline_rate = df_megaline_rate.merge(internet,how='outer',on=['user_id','month'])\n",
    "df_megaline_rate.reset_index(inplace=True)\n",
    "df_megaline_rate = df_megaline_rate.merge(users,how='outer',on=['user_id'])\n",
    "df_megaline_rate\n"
   ]
  },
  {
   "cell_type": "code",
   "execution_count": 28,
   "id": "38d58f03",
   "metadata": {},
   "outputs": [
    {
     "data": {
      "text/html": [
       "<div>\n",
       "<style scoped>\n",
       "    .dataframe tbody tr th:only-of-type {\n",
       "        vertical-align: middle;\n",
       "    }\n",
       "\n",
       "    .dataframe tbody tr th {\n",
       "        vertical-align: top;\n",
       "    }\n",
       "\n",
       "    .dataframe thead th {\n",
       "        text-align: right;\n",
       "    }\n",
       "</style>\n",
       "<table border=\"1\" class=\"dataframe\">\n",
       "  <thead>\n",
       "    <tr style=\"text-align: right;\">\n",
       "      <th></th>\n",
       "      <th>user_id</th>\n",
       "      <th>month</th>\n",
       "      <th>total_number_calls</th>\n",
       "      <th>total_minutes_calls</th>\n",
       "      <th>total_number_sms</th>\n",
       "      <th>total_volume_internet</th>\n",
       "      <th>plan</th>\n",
       "    </tr>\n",
       "  </thead>\n",
       "  <tbody>\n",
       "    <tr>\n",
       "      <th>0</th>\n",
       "      <td>1000</td>\n",
       "      <td>12.0</td>\n",
       "      <td>16.0</td>\n",
       "      <td>124.0</td>\n",
       "      <td>11.0</td>\n",
       "      <td>1901.47</td>\n",
       "      <td>ultimate</td>\n",
       "    </tr>\n",
       "    <tr>\n",
       "      <th>1</th>\n",
       "      <td>1001</td>\n",
       "      <td>8.0</td>\n",
       "      <td>27.0</td>\n",
       "      <td>182.0</td>\n",
       "      <td>30.0</td>\n",
       "      <td>6919.15</td>\n",
       "      <td>surf</td>\n",
       "    </tr>\n",
       "    <tr>\n",
       "      <th>2</th>\n",
       "      <td>1001</td>\n",
       "      <td>9.0</td>\n",
       "      <td>49.0</td>\n",
       "      <td>315.0</td>\n",
       "      <td>44.0</td>\n",
       "      <td>13314.82</td>\n",
       "      <td>surf</td>\n",
       "    </tr>\n",
       "    <tr>\n",
       "      <th>3</th>\n",
       "      <td>1001</td>\n",
       "      <td>10.0</td>\n",
       "      <td>65.0</td>\n",
       "      <td>393.0</td>\n",
       "      <td>53.0</td>\n",
       "      <td>22330.49</td>\n",
       "      <td>surf</td>\n",
       "    </tr>\n",
       "    <tr>\n",
       "      <th>4</th>\n",
       "      <td>1001</td>\n",
       "      <td>11.0</td>\n",
       "      <td>64.0</td>\n",
       "      <td>426.0</td>\n",
       "      <td>36.0</td>\n",
       "      <td>18504.30</td>\n",
       "      <td>surf</td>\n",
       "    </tr>\n",
       "    <tr>\n",
       "      <th>...</th>\n",
       "      <td>...</td>\n",
       "      <td>...</td>\n",
       "      <td>...</td>\n",
       "      <td>...</td>\n",
       "      <td>...</td>\n",
       "      <td>...</td>\n",
       "      <td>...</td>\n",
       "    </tr>\n",
       "    <tr>\n",
       "      <th>2298</th>\n",
       "      <td>1307</td>\n",
       "      <td>0.0</td>\n",
       "      <td>0.0</td>\n",
       "      <td>0.0</td>\n",
       "      <td>0.0</td>\n",
       "      <td>0.00</td>\n",
       "      <td>surf</td>\n",
       "    </tr>\n",
       "    <tr>\n",
       "      <th>2299</th>\n",
       "      <td>1319</td>\n",
       "      <td>0.0</td>\n",
       "      <td>0.0</td>\n",
       "      <td>0.0</td>\n",
       "      <td>0.0</td>\n",
       "      <td>0.00</td>\n",
       "      <td>surf</td>\n",
       "    </tr>\n",
       "    <tr>\n",
       "      <th>2300</th>\n",
       "      <td>1378</td>\n",
       "      <td>0.0</td>\n",
       "      <td>0.0</td>\n",
       "      <td>0.0</td>\n",
       "      <td>0.0</td>\n",
       "      <td>0.00</td>\n",
       "      <td>surf</td>\n",
       "    </tr>\n",
       "    <tr>\n",
       "      <th>2301</th>\n",
       "      <td>1463</td>\n",
       "      <td>0.0</td>\n",
       "      <td>0.0</td>\n",
       "      <td>0.0</td>\n",
       "      <td>0.0</td>\n",
       "      <td>0.00</td>\n",
       "      <td>ultimate</td>\n",
       "    </tr>\n",
       "    <tr>\n",
       "      <th>2302</th>\n",
       "      <td>1473</td>\n",
       "      <td>0.0</td>\n",
       "      <td>0.0</td>\n",
       "      <td>0.0</td>\n",
       "      <td>0.0</td>\n",
       "      <td>0.00</td>\n",
       "      <td>surf</td>\n",
       "    </tr>\n",
       "  </tbody>\n",
       "</table>\n",
       "<p>2303 rows × 7 columns</p>\n",
       "</div>"
      ],
      "text/plain": [
       "      user_id  month  total_number_calls  total_minutes_calls  \\\n",
       "0        1000   12.0                16.0                124.0   \n",
       "1        1001    8.0                27.0                182.0   \n",
       "2        1001    9.0                49.0                315.0   \n",
       "3        1001   10.0                65.0                393.0   \n",
       "4        1001   11.0                64.0                426.0   \n",
       "...       ...    ...                 ...                  ...   \n",
       "2298     1307    0.0                 0.0                  0.0   \n",
       "2299     1319    0.0                 0.0                  0.0   \n",
       "2300     1378    0.0                 0.0                  0.0   \n",
       "2301     1463    0.0                 0.0                  0.0   \n",
       "2302     1473    0.0                 0.0                  0.0   \n",
       "\n",
       "      total_number_sms  total_volume_internet      plan  \n",
       "0                 11.0                1901.47  ultimate  \n",
       "1                 30.0                6919.15      surf  \n",
       "2                 44.0               13314.82      surf  \n",
       "3                 53.0               22330.49      surf  \n",
       "4                 36.0               18504.30      surf  \n",
       "...                ...                    ...       ...  \n",
       "2298               0.0                   0.00      surf  \n",
       "2299               0.0                   0.00      surf  \n",
       "2300               0.0                   0.00      surf  \n",
       "2301               0.0                   0.00  ultimate  \n",
       "2302               0.0                   0.00      surf  \n",
       "\n",
       "[2303 rows x 7 columns]"
      ]
     },
     "execution_count": 28,
     "metadata": {},
     "output_type": "execute_result"
    }
   ],
   "source": [
    "# Trabajando con los valores ausentes en \"df_megaline_rate\"\n",
    "df_megaline_rate.fillna(0,inplace=True)\n",
    "df_megaline_rate\n"
   ]
  },
  {
   "cell_type": "code",
   "execution_count": 29,
   "id": "1S28B0d_K-Ov",
   "metadata": {
    "colab": {
     "base_uri": "https://localhost:8080/"
    },
    "id": "1S28B0d_K-Ov",
    "outputId": "a64e3eec-178e-448d-9b3b-b42222c6231b"
   },
   "outputs": [
    {
     "name": "stdout",
     "output_type": "stream",
     "text": [
      "<class 'pandas.core.frame.DataFrame'>\n",
      "Int64Index: 2303 entries, 0 to 2302\n",
      "Data columns (total 7 columns):\n",
      " #   Column                 Non-Null Count  Dtype  \n",
      "---  ------                 --------------  -----  \n",
      " 0   user_id                2303 non-null   int64  \n",
      " 1   month                  2303 non-null   float64\n",
      " 2   total_number_calls     2303 non-null   float64\n",
      " 3   total_minutes_calls    2303 non-null   float64\n",
      " 4   total_number_sms       2303 non-null   float64\n",
      " 5   total_volume_internet  2303 non-null   float64\n",
      " 6   plan                   2303 non-null   object \n",
      "dtypes: float64(5), int64(1), object(1)\n",
      "memory usage: 143.9+ KB\n"
     ]
    }
   ],
   "source": [
    "# Obteniendo información de \"df_megaline_rate\"\n",
    "df_megaline_rate.info()"
   ]
  },
  {
   "cell_type": "code",
   "execution_count": 30,
   "id": "d3GA_q5YL_vZ",
   "metadata": {
    "colab": {
     "base_uri": "https://localhost:8080/",
     "height": 424
    },
    "id": "d3GA_q5YL_vZ",
    "outputId": "42cf166b-d596-4925-870c-8d8e36aa4356"
   },
   "outputs": [
    {
     "data": {
      "text/html": [
       "<div>\n",
       "<style scoped>\n",
       "    .dataframe tbody tr th:only-of-type {\n",
       "        vertical-align: middle;\n",
       "    }\n",
       "\n",
       "    .dataframe tbody tr th {\n",
       "        vertical-align: top;\n",
       "    }\n",
       "\n",
       "    .dataframe thead th {\n",
       "        text-align: right;\n",
       "    }\n",
       "</style>\n",
       "<table border=\"1\" class=\"dataframe\">\n",
       "  <thead>\n",
       "    <tr style=\"text-align: right;\">\n",
       "      <th></th>\n",
       "      <th>user_id</th>\n",
       "      <th>month</th>\n",
       "      <th>total_number_calls</th>\n",
       "      <th>total_minutes_calls</th>\n",
       "      <th>total_number_sms</th>\n",
       "      <th>total_volume_internet</th>\n",
       "      <th>plan</th>\n",
       "    </tr>\n",
       "  </thead>\n",
       "  <tbody>\n",
       "    <tr>\n",
       "      <th>0</th>\n",
       "      <td>1000</td>\n",
       "      <td>12.0</td>\n",
       "      <td>16.0</td>\n",
       "      <td>124.0</td>\n",
       "      <td>11.0</td>\n",
       "      <td>1901.47</td>\n",
       "      <td>ultimate</td>\n",
       "    </tr>\n",
       "    <tr>\n",
       "      <th>1</th>\n",
       "      <td>1001</td>\n",
       "      <td>8.0</td>\n",
       "      <td>27.0</td>\n",
       "      <td>182.0</td>\n",
       "      <td>30.0</td>\n",
       "      <td>6919.15</td>\n",
       "      <td>surf</td>\n",
       "    </tr>\n",
       "    <tr>\n",
       "      <th>2</th>\n",
       "      <td>1001</td>\n",
       "      <td>9.0</td>\n",
       "      <td>49.0</td>\n",
       "      <td>315.0</td>\n",
       "      <td>44.0</td>\n",
       "      <td>13314.82</td>\n",
       "      <td>surf</td>\n",
       "    </tr>\n",
       "    <tr>\n",
       "      <th>3</th>\n",
       "      <td>1001</td>\n",
       "      <td>10.0</td>\n",
       "      <td>65.0</td>\n",
       "      <td>393.0</td>\n",
       "      <td>53.0</td>\n",
       "      <td>22330.49</td>\n",
       "      <td>surf</td>\n",
       "    </tr>\n",
       "    <tr>\n",
       "      <th>4</th>\n",
       "      <td>1001</td>\n",
       "      <td>11.0</td>\n",
       "      <td>64.0</td>\n",
       "      <td>426.0</td>\n",
       "      <td>36.0</td>\n",
       "      <td>18504.30</td>\n",
       "      <td>surf</td>\n",
       "    </tr>\n",
       "    <tr>\n",
       "      <th>...</th>\n",
       "      <td>...</td>\n",
       "      <td>...</td>\n",
       "      <td>...</td>\n",
       "      <td>...</td>\n",
       "      <td>...</td>\n",
       "      <td>...</td>\n",
       "      <td>...</td>\n",
       "    </tr>\n",
       "    <tr>\n",
       "      <th>2298</th>\n",
       "      <td>1307</td>\n",
       "      <td>0.0</td>\n",
       "      <td>0.0</td>\n",
       "      <td>0.0</td>\n",
       "      <td>0.0</td>\n",
       "      <td>0.00</td>\n",
       "      <td>surf</td>\n",
       "    </tr>\n",
       "    <tr>\n",
       "      <th>2299</th>\n",
       "      <td>1319</td>\n",
       "      <td>0.0</td>\n",
       "      <td>0.0</td>\n",
       "      <td>0.0</td>\n",
       "      <td>0.0</td>\n",
       "      <td>0.00</td>\n",
       "      <td>surf</td>\n",
       "    </tr>\n",
       "    <tr>\n",
       "      <th>2300</th>\n",
       "      <td>1378</td>\n",
       "      <td>0.0</td>\n",
       "      <td>0.0</td>\n",
       "      <td>0.0</td>\n",
       "      <td>0.0</td>\n",
       "      <td>0.00</td>\n",
       "      <td>surf</td>\n",
       "    </tr>\n",
       "    <tr>\n",
       "      <th>2301</th>\n",
       "      <td>1463</td>\n",
       "      <td>0.0</td>\n",
       "      <td>0.0</td>\n",
       "      <td>0.0</td>\n",
       "      <td>0.0</td>\n",
       "      <td>0.00</td>\n",
       "      <td>ultimate</td>\n",
       "    </tr>\n",
       "    <tr>\n",
       "      <th>2302</th>\n",
       "      <td>1473</td>\n",
       "      <td>0.0</td>\n",
       "      <td>0.0</td>\n",
       "      <td>0.0</td>\n",
       "      <td>0.0</td>\n",
       "      <td>0.00</td>\n",
       "      <td>surf</td>\n",
       "    </tr>\n",
       "  </tbody>\n",
       "</table>\n",
       "<p>2303 rows × 7 columns</p>\n",
       "</div>"
      ],
      "text/plain": [
       "      user_id  month  total_number_calls  total_minutes_calls  \\\n",
       "0        1000   12.0                16.0                124.0   \n",
       "1        1001    8.0                27.0                182.0   \n",
       "2        1001    9.0                49.0                315.0   \n",
       "3        1001   10.0                65.0                393.0   \n",
       "4        1001   11.0                64.0                426.0   \n",
       "...       ...    ...                 ...                  ...   \n",
       "2298     1307    0.0                 0.0                  0.0   \n",
       "2299     1319    0.0                 0.0                  0.0   \n",
       "2300     1378    0.0                 0.0                  0.0   \n",
       "2301     1463    0.0                 0.0                  0.0   \n",
       "2302     1473    0.0                 0.0                  0.0   \n",
       "\n",
       "      total_number_sms  total_volume_internet      plan  \n",
       "0                 11.0                1901.47  ultimate  \n",
       "1                 30.0                6919.15      surf  \n",
       "2                 44.0               13314.82      surf  \n",
       "3                 53.0               22330.49      surf  \n",
       "4                 36.0               18504.30      surf  \n",
       "...                ...                    ...       ...  \n",
       "2298               0.0                   0.00      surf  \n",
       "2299               0.0                   0.00      surf  \n",
       "2300               0.0                   0.00      surf  \n",
       "2301               0.0                   0.00  ultimate  \n",
       "2302               0.0                   0.00      surf  \n",
       "\n",
       "[2303 rows x 7 columns]"
      ]
     },
     "execution_count": 30,
     "metadata": {},
     "output_type": "execute_result"
    }
   ],
   "source": [
    "# Verificando datos dentro de \"df_megaline_rate\"\n",
    "df_megaline_rate"
   ]
  },
  {
   "cell_type": "markdown",
   "id": "78E-l4ERMrme",
   "metadata": {
    "id": "78E-l4ERMrme"
   },
   "source": [
    "Como podemos observar hay registros (aparentemente) que no muestran consumo mensual en alguno de los rubros, ya sea para llamadas realizadas, cantidad de minutos utilizados, mensajes enviados o el volumen de datos usados.\n",
    "\n",
    "De momento concluiremos la construcción de `df_megaline_rate` con la última columna que hace falta que es `total`."
   ]
  },
  {
   "cell_type": "code",
   "execution_count": 31,
   "id": "cbe068df",
   "metadata": {},
   "outputs": [
    {
     "data": {
      "text/html": [
       "<div>\n",
       "<style scoped>\n",
       "    .dataframe tbody tr th:only-of-type {\n",
       "        vertical-align: middle;\n",
       "    }\n",
       "\n",
       "    .dataframe tbody tr th {\n",
       "        vertical-align: top;\n",
       "    }\n",
       "\n",
       "    .dataframe thead th {\n",
       "        text-align: right;\n",
       "    }\n",
       "</style>\n",
       "<table border=\"1\" class=\"dataframe\">\n",
       "  <thead>\n",
       "    <tr style=\"text-align: right;\">\n",
       "      <th></th>\n",
       "      <th>user_id</th>\n",
       "      <th>month</th>\n",
       "      <th>total_number_calls</th>\n",
       "      <th>total_minutes_calls</th>\n",
       "      <th>total_number_sms</th>\n",
       "      <th>total_volume_internet</th>\n",
       "      <th>plan</th>\n",
       "    </tr>\n",
       "  </thead>\n",
       "  <tbody>\n",
       "    <tr>\n",
       "      <th>0</th>\n",
       "      <td>1000</td>\n",
       "      <td>12.0</td>\n",
       "      <td>16.0</td>\n",
       "      <td>124.0</td>\n",
       "      <td>11.0</td>\n",
       "      <td>2.0</td>\n",
       "      <td>ultimate</td>\n",
       "    </tr>\n",
       "    <tr>\n",
       "      <th>1</th>\n",
       "      <td>1001</td>\n",
       "      <td>8.0</td>\n",
       "      <td>27.0</td>\n",
       "      <td>182.0</td>\n",
       "      <td>30.0</td>\n",
       "      <td>7.0</td>\n",
       "      <td>surf</td>\n",
       "    </tr>\n",
       "    <tr>\n",
       "      <th>2</th>\n",
       "      <td>1001</td>\n",
       "      <td>9.0</td>\n",
       "      <td>49.0</td>\n",
       "      <td>315.0</td>\n",
       "      <td>44.0</td>\n",
       "      <td>14.0</td>\n",
       "      <td>surf</td>\n",
       "    </tr>\n",
       "    <tr>\n",
       "      <th>3</th>\n",
       "      <td>1001</td>\n",
       "      <td>10.0</td>\n",
       "      <td>65.0</td>\n",
       "      <td>393.0</td>\n",
       "      <td>53.0</td>\n",
       "      <td>22.0</td>\n",
       "      <td>surf</td>\n",
       "    </tr>\n",
       "    <tr>\n",
       "      <th>4</th>\n",
       "      <td>1001</td>\n",
       "      <td>11.0</td>\n",
       "      <td>64.0</td>\n",
       "      <td>426.0</td>\n",
       "      <td>36.0</td>\n",
       "      <td>19.0</td>\n",
       "      <td>surf</td>\n",
       "    </tr>\n",
       "    <tr>\n",
       "      <th>...</th>\n",
       "      <td>...</td>\n",
       "      <td>...</td>\n",
       "      <td>...</td>\n",
       "      <td>...</td>\n",
       "      <td>...</td>\n",
       "      <td>...</td>\n",
       "      <td>...</td>\n",
       "    </tr>\n",
       "    <tr>\n",
       "      <th>2298</th>\n",
       "      <td>1307</td>\n",
       "      <td>0.0</td>\n",
       "      <td>0.0</td>\n",
       "      <td>0.0</td>\n",
       "      <td>0.0</td>\n",
       "      <td>0.0</td>\n",
       "      <td>surf</td>\n",
       "    </tr>\n",
       "    <tr>\n",
       "      <th>2299</th>\n",
       "      <td>1319</td>\n",
       "      <td>0.0</td>\n",
       "      <td>0.0</td>\n",
       "      <td>0.0</td>\n",
       "      <td>0.0</td>\n",
       "      <td>0.0</td>\n",
       "      <td>surf</td>\n",
       "    </tr>\n",
       "    <tr>\n",
       "      <th>2300</th>\n",
       "      <td>1378</td>\n",
       "      <td>0.0</td>\n",
       "      <td>0.0</td>\n",
       "      <td>0.0</td>\n",
       "      <td>0.0</td>\n",
       "      <td>0.0</td>\n",
       "      <td>surf</td>\n",
       "    </tr>\n",
       "    <tr>\n",
       "      <th>2301</th>\n",
       "      <td>1463</td>\n",
       "      <td>0.0</td>\n",
       "      <td>0.0</td>\n",
       "      <td>0.0</td>\n",
       "      <td>0.0</td>\n",
       "      <td>0.0</td>\n",
       "      <td>ultimate</td>\n",
       "    </tr>\n",
       "    <tr>\n",
       "      <th>2302</th>\n",
       "      <td>1473</td>\n",
       "      <td>0.0</td>\n",
       "      <td>0.0</td>\n",
       "      <td>0.0</td>\n",
       "      <td>0.0</td>\n",
       "      <td>0.0</td>\n",
       "      <td>surf</td>\n",
       "    </tr>\n",
       "  </tbody>\n",
       "</table>\n",
       "<p>2303 rows × 7 columns</p>\n",
       "</div>"
      ],
      "text/plain": [
       "      user_id  month  total_number_calls  total_minutes_calls  \\\n",
       "0        1000   12.0                16.0                124.0   \n",
       "1        1001    8.0                27.0                182.0   \n",
       "2        1001    9.0                49.0                315.0   \n",
       "3        1001   10.0                65.0                393.0   \n",
       "4        1001   11.0                64.0                426.0   \n",
       "...       ...    ...                 ...                  ...   \n",
       "2298     1307    0.0                 0.0                  0.0   \n",
       "2299     1319    0.0                 0.0                  0.0   \n",
       "2300     1378    0.0                 0.0                  0.0   \n",
       "2301     1463    0.0                 0.0                  0.0   \n",
       "2302     1473    0.0                 0.0                  0.0   \n",
       "\n",
       "      total_number_sms  total_volume_internet      plan  \n",
       "0                 11.0                    2.0  ultimate  \n",
       "1                 30.0                    7.0      surf  \n",
       "2                 44.0                   14.0      surf  \n",
       "3                 53.0                   22.0      surf  \n",
       "4                 36.0                   19.0      surf  \n",
       "...                ...                    ...       ...  \n",
       "2298               0.0                    0.0      surf  \n",
       "2299               0.0                    0.0      surf  \n",
       "2300               0.0                    0.0      surf  \n",
       "2301               0.0                    0.0  ultimate  \n",
       "2302               0.0                    0.0      surf  \n",
       "\n",
       "[2303 rows x 7 columns]"
      ]
     },
     "execution_count": 31,
     "metadata": {},
     "output_type": "execute_result"
    }
   ],
   "source": [
    "# Ajustando los valores de la columna \"total_volume_internet\"\n",
    "df_megaline_rate['total_volume_internet'] = np.ceil(df_megaline_rate['total_volume_internet']/1024)\n",
    "df_megaline_rate"
   ]
  },
  {
   "cell_type": "code",
   "execution_count": 32,
   "id": "zOq4QRFx8emq",
   "metadata": {
    "colab": {
     "base_uri": "https://localhost:8080/",
     "height": 424
    },
    "id": "zOq4QRFx8emq",
    "outputId": "f25976a8-c8df-4a44-f5ef-1134904e4316"
   },
   "outputs": [
    {
     "data": {
      "text/html": [
       "<div>\n",
       "<style scoped>\n",
       "    .dataframe tbody tr th:only-of-type {\n",
       "        vertical-align: middle;\n",
       "    }\n",
       "\n",
       "    .dataframe tbody tr th {\n",
       "        vertical-align: top;\n",
       "    }\n",
       "\n",
       "    .dataframe thead th {\n",
       "        text-align: right;\n",
       "    }\n",
       "</style>\n",
       "<table border=\"1\" class=\"dataframe\">\n",
       "  <thead>\n",
       "    <tr style=\"text-align: right;\">\n",
       "      <th></th>\n",
       "      <th>user_id</th>\n",
       "      <th>month</th>\n",
       "      <th>total_number_calls</th>\n",
       "      <th>total_minutes_calls</th>\n",
       "      <th>total_number_sms</th>\n",
       "      <th>total_volume_internet</th>\n",
       "      <th>plan</th>\n",
       "      <th>total</th>\n",
       "    </tr>\n",
       "  </thead>\n",
       "  <tbody>\n",
       "    <tr>\n",
       "      <th>0</th>\n",
       "      <td>1000</td>\n",
       "      <td>12.0</td>\n",
       "      <td>16.0</td>\n",
       "      <td>124.0</td>\n",
       "      <td>11.0</td>\n",
       "      <td>2.0</td>\n",
       "      <td>ultimate</td>\n",
       "      <td>70.00</td>\n",
       "    </tr>\n",
       "    <tr>\n",
       "      <th>1</th>\n",
       "      <td>1001</td>\n",
       "      <td>8.0</td>\n",
       "      <td>27.0</td>\n",
       "      <td>182.0</td>\n",
       "      <td>30.0</td>\n",
       "      <td>7.0</td>\n",
       "      <td>surf</td>\n",
       "      <td>20.00</td>\n",
       "    </tr>\n",
       "    <tr>\n",
       "      <th>2</th>\n",
       "      <td>1001</td>\n",
       "      <td>9.0</td>\n",
       "      <td>49.0</td>\n",
       "      <td>315.0</td>\n",
       "      <td>44.0</td>\n",
       "      <td>14.0</td>\n",
       "      <td>surf</td>\n",
       "      <td>20.00</td>\n",
       "    </tr>\n",
       "    <tr>\n",
       "      <th>3</th>\n",
       "      <td>1001</td>\n",
       "      <td>10.0</td>\n",
       "      <td>65.0</td>\n",
       "      <td>393.0</td>\n",
       "      <td>53.0</td>\n",
       "      <td>22.0</td>\n",
       "      <td>surf</td>\n",
       "      <td>90.09</td>\n",
       "    </tr>\n",
       "    <tr>\n",
       "      <th>4</th>\n",
       "      <td>1001</td>\n",
       "      <td>11.0</td>\n",
       "      <td>64.0</td>\n",
       "      <td>426.0</td>\n",
       "      <td>36.0</td>\n",
       "      <td>19.0</td>\n",
       "      <td>surf</td>\n",
       "      <td>60.00</td>\n",
       "    </tr>\n",
       "  </tbody>\n",
       "</table>\n",
       "</div>"
      ],
      "text/plain": [
       "   user_id  month  total_number_calls  total_minutes_calls  total_number_sms  \\\n",
       "0     1000   12.0                16.0                124.0              11.0   \n",
       "1     1001    8.0                27.0                182.0              30.0   \n",
       "2     1001    9.0                49.0                315.0              44.0   \n",
       "3     1001   10.0                65.0                393.0              53.0   \n",
       "4     1001   11.0                64.0                426.0              36.0   \n",
       "\n",
       "   total_volume_internet      plan  total  \n",
       "0                    2.0  ultimate  70.00  \n",
       "1                    7.0      surf  20.00  \n",
       "2                   14.0      surf  20.00  \n",
       "3                   22.0      surf  90.09  \n",
       "4                   19.0      surf  60.00  "
      ]
     },
     "execution_count": 32,
     "metadata": {},
     "output_type": "execute_result"
    }
   ],
   "source": [
    "# Creando \"total\" para \"df_megaline_rate\"\n",
    "def total_income(row):\n",
    "    number_calls = row['total_number_calls']\n",
    "    minutes_calls = row['total_minutes_calls']\n",
    "    number_sms = row['total_number_sms']\n",
    "    total_internet = row['total_volume_internet']\n",
    "    plan = row['plan']\n",
    "\n",
    "    total = 0\n",
    "\n",
    "    if plan == 'surf':\n",
    "        total = 20\n",
    "        # Correspondiente a llamadas, SMS e Internet\n",
    "        if minutes_calls > 500:\n",
    "            total = total + (minutes_calls - 500) * 0.03\n",
    "        if number_sms > 50:\n",
    "            total = total + (number_sms - 50) * 0.03\n",
    "        if total_internet > 15:\n",
    "            total = total + (total_internet - 15) * 10\n",
    "    else:\n",
    "        total = 70\n",
    "        # Correspondiente a llamadas, SMS e Internet\n",
    "        if minutes_calls > 3000:\n",
    "            total = total + (minutes_calls - 3000) * 0.01\n",
    "        if number_sms > 1000:\n",
    "            total = total + (number_sms - 1000) * 0.01\n",
    "        if total_internet > 30:\n",
    "            total = total + (total_internet - 30) * 7\n",
    "    \n",
    "    return total\n",
    "\n",
    "df_megaline_rate['total'] = df_megaline_rate.apply(total_income,axis=1)\n",
    "df_megaline_rate.head()\n"
   ]
  },
  {
   "cell_type": "markdown",
   "id": "B3wwBKT6E8ax",
   "metadata": {
    "id": "B3wwBKT6E8ax"
   },
   "source": [
    "## Análisis estadístico"
   ]
  },
  {
   "cell_type": "markdown",
   "id": "dSII8XkObjc_",
   "metadata": {
    "id": "dSII8XkObjc_"
   },
   "source": [
    "Comenzaremos nuestra análisis estadístico graficando el comportamiento de los usuarios haciendo uso de las distintas características del plan contratado, partiendo de esto se dará forma e interpretación a los datos."
   ]
  },
  {
   "cell_type": "markdown",
   "id": "w16WOqH67NR9",
   "metadata": {
    "id": "w16WOqH67NR9"
   },
   "source": [
    "### Trabajando con la columna \"total_number_calls\" de la tabla \"df_megaline_rate\"\n",
    "\n"
   ]
  },
  {
   "cell_type": "code",
   "execution_count": 33,
   "id": "ho2zhGgDfX9W",
   "metadata": {
    "colab": {
     "base_uri": "https://localhost:8080/",
     "height": 797
    },
    "id": "ho2zhGgDfX9W",
    "outputId": "4ed634c1-b4e2-4f9d-a672-00af10201237"
   },
   "outputs": [
    {
     "data": {
      "image/png": "[encoded data removed]",
      "text/plain": [
       "<Figure size 720x432 with 1 Axes>"
      ]
     },
     "metadata": {
      "needs_background": "light"
     },
     "output_type": "display_data"
    }
   ],
   "source": [
    "# Contabilizando la cantidad de llamdas realizadas durante el año\n",
    "df_megaline_rate['total_number_calls'].plot.hist(bins=10,figsize=(10,6))\n",
    "plt.xlabel('Cantidad de llamadas realizadas')\n",
    "plt.ylabel('Frecuencia')\n",
    "plt.title('Histograma de la cantidad de llamadas realizadas durante el 2018.')\n",
    "plt.show()\n"
   ]
  },
  {
   "cell_type": "markdown",
   "id": "ac71bfd0",
   "metadata": {},
   "source": [
    "Como podemos ver en nuestra histograma, tenemos una mayor concentración de cantidad de llamadas realizadas por los usuarios que va desde las `45` a las `80` aproximadamente mes a mes. Si bien son cantidades considerables de llamadas realizadas por los usuarios, debemos de igual forma determinar cual fue la duración de las mismas para realmente conocer si los usuarios sobrepasan los límites del plan contratado.\n",
    "\n",
    "Procedermos a realizar el cálculo del `promedio`, `varianza` y `deviación estandar`. "
   ]
  },
  {
   "cell_type": "code",
   "execution_count": 34,
   "id": "6f12cdd0",
   "metadata": {},
   "outputs": [
    {
     "data": {
      "text/html": [
       "<div>\n",
       "<style scoped>\n",
       "    .dataframe tbody tr th:only-of-type {\n",
       "        vertical-align: middle;\n",
       "    }\n",
       "\n",
       "    .dataframe tbody tr th {\n",
       "        vertical-align: top;\n",
       "    }\n",
       "\n",
       "    .dataframe thead th {\n",
       "        text-align: right;\n",
       "    }\n",
       "</style>\n",
       "<table border=\"1\" class=\"dataframe\">\n",
       "  <thead>\n",
       "    <tr style=\"text-align: right;\">\n",
       "      <th></th>\n",
       "      <th>number_call_mean</th>\n",
       "      <th>number_call_var</th>\n",
       "      <th>number_call_sd</th>\n",
       "    </tr>\n",
       "    <tr>\n",
       "      <th>plan</th>\n",
       "      <th></th>\n",
       "      <th></th>\n",
       "      <th></th>\n",
       "    </tr>\n",
       "  </thead>\n",
       "  <tbody>\n",
       "    <tr>\n",
       "      <th>surf</th>\n",
       "      <td>59.584547</td>\n",
       "      <td>1034.149122</td>\n",
       "      <td>32.158189</td>\n",
       "    </tr>\n",
       "    <tr>\n",
       "      <th>ultimate</th>\n",
       "      <td>60.291436</td>\n",
       "      <td>1117.659540</td>\n",
       "      <td>33.431415</td>\n",
       "    </tr>\n",
       "  </tbody>\n",
       "</table>\n",
       "</div>"
      ],
      "text/plain": [
       "          number_call_mean  number_call_var  number_call_sd\n",
       "plan                                                       \n",
       "surf             59.584547      1034.149122       32.158189\n",
       "ultimate         60.291436      1117.659540       33.431415"
      ]
     },
     "execution_count": 34,
     "metadata": {},
     "output_type": "execute_result"
    }
   ],
   "source": [
    "# Promedio, varianza y desviación estandar por plan\n",
    "number_calls = df_megaline_rate.pivot_table(index='plan',values='total_number_calls',aggfunc='mean')\n",
    "number_calls.columns = ['number_call_mean']\n",
    "surf_var = np.var(df_megaline_rate[df_megaline_rate['plan'] == 'surf']['total_number_calls'])\n",
    "ulti_var = np.var(df_megaline_rate[df_megaline_rate['plan'] == 'ultimate']['total_number_calls'])\n",
    "number_calls['number_call_var'] = pd.Series([surf_var,ulti_var], index=['surf','ultimate'])\n",
    "number_calls['number_call_sd'] = pd.Series([np.sqrt(surf_var),np.sqrt(ulti_var)], index=['surf','ultimate'])\n",
    "number_calls"
   ]
  },
  {
   "cell_type": "markdown",
   "id": "e641194a",
   "metadata": {},
   "source": [
    "De acuerdo con la tabla anteriormente, podemos observar que tenemos una `varianza` muy alejada del valor promedio, por ende, la `desviación estandar` también es considerable. Esto, en primera estancia, nos indica que tenemos una desperción muy grande entre nuestros datos, para ser precisos, los valores estan muy alejados uno de otro y como prueba, extraeremos los valores mínimos, máximos y la cantidad de datos con la que contamos para la columna `total_number_calls`."
   ]
  },
  {
   "cell_type": "code",
   "execution_count": 35,
   "id": "86cc42e4",
   "metadata": {},
   "outputs": [
    {
     "data": {
      "text/plain": [
       "count    2303.000000\n",
       "mean       59.806774\n",
       "std        32.572548\n",
       "min         0.000000\n",
       "25%        38.000000\n",
       "50%        60.000000\n",
       "75%        79.000000\n",
       "max       205.000000\n",
       "Name: total_number_calls, dtype: float64"
      ]
     },
     "execution_count": 35,
     "metadata": {},
     "output_type": "execute_result"
    }
   ],
   "source": [
    "# Calcuando el valor mínimo, máximo y la cantidad de información con la que contamos en nuestra tabla\n",
    "df_megaline_rate['total_number_calls'].describe()"
   ]
  },
  {
   "cell_type": "markdown",
   "id": "e947d4e4",
   "metadata": {},
   "source": [
    "Como podemos observar, el valor mínimo para `total_number_calls` es de `1`, el máximo es de `205` y contamos con un total de `2258` registros. Recordando la ecuación para el calculo de la varianza, nos indica que debemos calcular la suma de los cuadrados de la diferencia de cada valor que tenemos en la columna y la media, divido entre la cantidad de datos."
   ]
  },
  {
   "cell_type": "markdown",
   "id": "uko4KD98AY22",
   "metadata": {
    "id": "uko4KD98AY22"
   },
   "source": [
    "### Trabajando con la columna \"total_minutes_calls\" de la \"df_megaline_rate\" para los usuarios."
   ]
  },
  {
   "cell_type": "code",
   "execution_count": 36,
   "id": "jCMnSQlKQ5yv",
   "metadata": {
    "colab": {
     "base_uri": "https://localhost:8080/"
    },
    "id": "jCMnSQlKQ5yv",
    "outputId": "15189922-f595-490e-83f7-de674d8dc586"
   },
   "outputs": [
    {
     "data": {
      "image/png": "[encoded data removed]",
      "text/plain": [
       "<Figure size 720x432 with 1 Axes>"
      ]
     },
     "metadata": {
      "needs_background": "light"
     },
     "output_type": "display_data"
    }
   ],
   "source": [
    "# Contabilizando la cantidad de minutos por llamda realizadas durante el año\n",
    "df_megaline_rate['total_minutes_calls'].plot.hist(bins=10,figsize=(10,6))\n",
    "plt.xlabel('Cantidad de minutos por llamada')\n",
    "plt.ylabel('Frecuencia')\n",
    "plt.title('Histograma de la cantidad de minutos por llamada realizadas durante el 2018.')\n",
    "plt.show()\n"
   ]
  },
  {
   "cell_type": "markdown",
   "id": "0LE_MW9THhNX",
   "metadata": {
    "id": "0LE_MW9THhNX"
   },
   "source": [
    "De manera general este histograma nos indica que mayormente las llamdas realizadas durante el `2018` fueron de entre `350` y `450` minutos de duración, el rango que nos proporciona el histograma no sobrepasa los límites del plan `ultimate` sin embargo, queda la incognita si también los usuarios del plan `surf` tienden a respetar dichos límites. \n",
    "\n",
    "Continuaremos extrayendo promedios, varianza y desviación estandar para esta columna."
   ]
  },
  {
   "cell_type": "code",
   "execution_count": 37,
   "id": "mfReDp6LsGK3",
   "metadata": {
    "colab": {
     "base_uri": "https://localhost:8080/",
     "height": 513
    },
    "id": "mfReDp6LsGK3",
    "outputId": "a5199a13-e8eb-4b76-c667-85d1150b76fd"
   },
   "outputs": [
    {
     "data": {
      "text/html": [
       "<div>\n",
       "<style scoped>\n",
       "    .dataframe tbody tr th:only-of-type {\n",
       "        vertical-align: middle;\n",
       "    }\n",
       "\n",
       "    .dataframe tbody tr th {\n",
       "        vertical-align: top;\n",
       "    }\n",
       "\n",
       "    .dataframe thead th {\n",
       "        text-align: right;\n",
       "    }\n",
       "</style>\n",
       "<table border=\"1\" class=\"dataframe\">\n",
       "  <thead>\n",
       "    <tr style=\"text-align: right;\">\n",
       "      <th></th>\n",
       "      <th>minutes_calls_mean</th>\n",
       "      <th>minutes_call_var</th>\n",
       "      <th>minutes_call_sd</th>\n",
       "    </tr>\n",
       "    <tr>\n",
       "      <th>plan</th>\n",
       "      <th></th>\n",
       "      <th></th>\n",
       "      <th></th>\n",
       "    </tr>\n",
       "  </thead>\n",
       "  <tbody>\n",
       "    <tr>\n",
       "      <th>surf</th>\n",
       "      <td>427.120329</td>\n",
       "      <td>55420.456705</td>\n",
       "      <td>235.415498</td>\n",
       "    </tr>\n",
       "    <tr>\n",
       "      <th>ultimate</th>\n",
       "      <td>428.071823</td>\n",
       "      <td>58463.016941</td>\n",
       "      <td>241.791267</td>\n",
       "    </tr>\n",
       "  </tbody>\n",
       "</table>\n",
       "</div>"
      ],
      "text/plain": [
       "          minutes_calls_mean  minutes_call_var  minutes_call_sd\n",
       "plan                                                           \n",
       "surf              427.120329      55420.456705       235.415498\n",
       "ultimate          428.071823      58463.016941       241.791267"
      ]
     },
     "execution_count": 37,
     "metadata": {},
     "output_type": "execute_result"
    }
   ],
   "source": [
    "# Promedio, varianza y desviación estandar por plan\n",
    "minutes_calls = df_megaline_rate.pivot_table(index='plan',values='total_minutes_calls',aggfunc='mean')\n",
    "minutes_calls.columns = ['minutes_calls_mean']\n",
    "surf_var = np.var(df_megaline_rate[df_megaline_rate['plan'] == 'surf']['total_minutes_calls'])\n",
    "ulti_var = np.var(df_megaline_rate[df_megaline_rate['plan'] == 'ultimate']['total_minutes_calls'])\n",
    "minutes_calls['minutes_call_var'] = pd.Series([surf_var,ulti_var], index=['surf','ultimate'])\n",
    "minutes_calls['minutes_call_sd'] = pd.Series([np.sqrt(surf_var),np.sqrt(ulti_var)], index=['surf','ultimate'])\n",
    "minutes_calls"
   ]
  },
  {
   "cell_type": "markdown",
   "id": "f10a7357",
   "metadata": {},
   "source": [
    "Para la columna `total_minutes_calls` tenemos un caso similar, la varianza esta muy alejada de los promedios calculados; encontraremos los valores mínimo, máximo y cantidad de datos."
   ]
  },
  {
   "cell_type": "code",
   "execution_count": 38,
   "id": "2576a3be",
   "metadata": {},
   "outputs": [
    {
     "data": {
      "text/plain": [
       "count    2303.000000\n",
       "mean      427.419453\n",
       "std       237.490294\n",
       "min         0.000000\n",
       "25%       262.500000\n",
       "50%       424.000000\n",
       "75%       571.500000\n",
       "max      1510.000000\n",
       "Name: total_minutes_calls, dtype: float64"
      ]
     },
     "execution_count": 38,
     "metadata": {},
     "output_type": "execute_result"
    }
   ],
   "source": [
    "# Calcuando el valor mínimo, máximo y la cantidad de información con la que contamos en nuestra tabla\n",
    "df_megaline_rate['total_minutes_calls'].describe()"
   ]
  },
  {
   "cell_type": "markdown",
   "id": "7836bd0b",
   "metadata": {},
   "source": [
    "El valor mínimo que tenemos para la columna `total_minutes_calls` es de `0` lo que implica que hay usuarios que no realizarón llamadas al menos en uno de los meses en los que gozarón del plan, por el otro lado tenemos un valor máximo de `1510` minutos por llamada; al realizar el cálculo de la varianza podemos entender el porque esta es muy alta lo que apunta a valores dispersos.\n",
    "\n",
    "A continuación verificaremos porque la columna `total_minutes_calls` tiene valores de `0`."
   ]
  },
  {
   "cell_type": "code",
   "execution_count": 39,
   "id": "8fbbb4b0",
   "metadata": {},
   "outputs": [
    {
     "data": {
      "text/html": [
       "<div>\n",
       "<style scoped>\n",
       "    .dataframe tbody tr th:only-of-type {\n",
       "        vertical-align: middle;\n",
       "    }\n",
       "\n",
       "    .dataframe tbody tr th {\n",
       "        vertical-align: top;\n",
       "    }\n",
       "\n",
       "    .dataframe thead th {\n",
       "        text-align: right;\n",
       "    }\n",
       "</style>\n",
       "<table border=\"1\" class=\"dataframe\">\n",
       "  <thead>\n",
       "    <tr style=\"text-align: right;\">\n",
       "      <th></th>\n",
       "      <th>user_id</th>\n",
       "      <th>month</th>\n",
       "      <th>total_number_calls</th>\n",
       "      <th>total_minutes_calls</th>\n",
       "      <th>total_number_sms</th>\n",
       "      <th>total_volume_internet</th>\n",
       "      <th>plan</th>\n",
       "      <th>total</th>\n",
       "    </tr>\n",
       "  </thead>\n",
       "  <tbody>\n",
       "    <tr>\n",
       "      <th>104</th>\n",
       "      <td>1028</td>\n",
       "      <td>2.0</td>\n",
       "      <td>0.0</td>\n",
       "      <td>0.0</td>\n",
       "      <td>12.0</td>\n",
       "      <td>13.0</td>\n",
       "      <td>ultimate</td>\n",
       "      <td>70.0</td>\n",
       "    </tr>\n",
       "    <tr>\n",
       "      <th>433</th>\n",
       "      <td>1094</td>\n",
       "      <td>10.0</td>\n",
       "      <td>1.0</td>\n",
       "      <td>0.0</td>\n",
       "      <td>0.0</td>\n",
       "      <td>2.0</td>\n",
       "      <td>surf</td>\n",
       "      <td>20.0</td>\n",
       "    </tr>\n",
       "    <tr>\n",
       "      <th>1045</th>\n",
       "      <td>1224</td>\n",
       "      <td>6.0</td>\n",
       "      <td>0.0</td>\n",
       "      <td>0.0</td>\n",
       "      <td>5.0</td>\n",
       "      <td>3.0</td>\n",
       "      <td>ultimate</td>\n",
       "      <td>70.0</td>\n",
       "    </tr>\n",
       "    <tr>\n",
       "      <th>1398</th>\n",
       "      <td>1311</td>\n",
       "      <td>6.0</td>\n",
       "      <td>0.0</td>\n",
       "      <td>0.0</td>\n",
       "      <td>0.0</td>\n",
       "      <td>2.0</td>\n",
       "      <td>ultimate</td>\n",
       "      <td>70.0</td>\n",
       "    </tr>\n",
       "    <tr>\n",
       "      <th>1645</th>\n",
       "      <td>1361</td>\n",
       "      <td>5.0</td>\n",
       "      <td>0.0</td>\n",
       "      <td>0.0</td>\n",
       "      <td>2.0</td>\n",
       "      <td>2.0</td>\n",
       "      <td>surf</td>\n",
       "      <td>20.0</td>\n",
       "    </tr>\n",
       "  </tbody>\n",
       "</table>\n",
       "</div>"
      ],
      "text/plain": [
       "      user_id  month  total_number_calls  total_minutes_calls  \\\n",
       "104      1028    2.0                 0.0                  0.0   \n",
       "433      1094   10.0                 1.0                  0.0   \n",
       "1045     1224    6.0                 0.0                  0.0   \n",
       "1398     1311    6.0                 0.0                  0.0   \n",
       "1645     1361    5.0                 0.0                  0.0   \n",
       "\n",
       "      total_number_sms  total_volume_internet      plan  total  \n",
       "104               12.0                   13.0  ultimate   70.0  \n",
       "433                0.0                    2.0      surf   20.0  \n",
       "1045               5.0                    3.0  ultimate   70.0  \n",
       "1398               0.0                    2.0  ultimate   70.0  \n",
       "1645               2.0                    2.0      surf   20.0  "
      ]
     },
     "execution_count": 39,
     "metadata": {},
     "output_type": "execute_result"
    }
   ],
   "source": [
    "# Validando registros \"0\" en \"total_minutes_calls\"\n",
    "df_megaline_rate[df_megaline_rate['total_minutes_calls'] == 0].head()"
   ]
  },
  {
   "cell_type": "markdown",
   "id": "u1GPEWIrEwNS",
   "metadata": {
    "id": "u1GPEWIrEwNS"
   },
   "source": [
    "Podemos observar que esto se debe a que son usuarios que no hicierón uso del servicio de llamadas de manera general, sin embargo, podemos observa que hay registros que si realizarón llamadas telefónicas pero no se contabilizarón minutosy esto podría tener dos razones:\n",
    "- La llamada fue realizada pero no logro establecerce.\n",
    "- La llamada fue realizada pero el receptor nunca la contesto."
   ]
  },
  {
   "cell_type": "markdown",
   "id": "ArrDM1ipgEcO",
   "metadata": {
    "id": "ArrDM1ipgEcO"
   },
   "source": [
    "### Trabajando con la columna \"total_number_sms\" para la tabla \"df_megaline_rate\" para los usuarios."
   ]
  },
  {
   "cell_type": "markdown",
   "id": "0b-pW2cjgKAn",
   "metadata": {
    "id": "0b-pW2cjgKAn"
   },
   "source": [
    "Vamos a ejecutar la misma dinámica para el caso de la columna `total_number_sms` de la tabla `df_megaline_rate` para ambos planes."
   ]
  },
  {
   "cell_type": "code",
   "execution_count": 40,
   "id": "xROGkZm3FcjQ",
   "metadata": {
    "colab": {
     "base_uri": "https://localhost:8080/",
     "height": 424
    },
    "id": "xROGkZm3FcjQ",
    "outputId": "56faabf3-e8ce-4b6c-b413-992725c3e179"
   },
   "outputs": [
    {
     "data": {
      "image/png": "[encoded data removed]",
      "text/plain": [
       "<Figure size 720x432 with 1 Axes>"
      ]
     },
     "metadata": {
      "needs_background": "light"
     },
     "output_type": "display_data"
    }
   ],
   "source": [
    "# Contabilizando la cantidad de minutos por llamda realizadas durante el año\n",
    "df_megaline_rate['total_number_sms'].plot.hist(bins=10,figsize=(10,6))\n",
    "plt.xlabel('Cantidad de mensajes enviados')\n",
    "plt.ylabel('Frecuencia')\n",
    "plt.title('Histograma de la cantidad de mensajes enviados durante el 2018.')\n",
    "plt.show()"
   ]
  },
  {
   "cell_type": "markdown",
   "id": "6e7d9fb4",
   "metadata": {},
   "source": [
    "Nuevamente, no se superan los límites para los usarios con el plan `ultimate`, sin embargo para los que tiene contratado el plan `surf` puede que si hayan superado dicho límite. Con mayor frecuencia los usuarios hacen uso de este servicio entre `0` y `25` veces al mes seguido por aquellos que incluso llegan a enviar hasta `50` mensajes y es aquí donde se tiene el límite para el plan `surf`.\n",
    "\n",
    "Continuaremos con la tabla que contiene `promedio`, `varianza` y `desviación estandar`."
   ]
  },
  {
   "cell_type": "code",
   "execution_count": 41,
   "id": "t2DxYsu5gz4B",
   "metadata": {
    "colab": {
     "base_uri": "https://localhost:8080/",
     "height": 457
    },
    "id": "t2DxYsu5gz4B",
    "outputId": "8ae27a1c-b096-46b4-d65b-0a465e5a1d59"
   },
   "outputs": [
    {
     "data": {
      "text/html": [
       "<div>\n",
       "<style scoped>\n",
       "    .dataframe tbody tr th:only-of-type {\n",
       "        vertical-align: middle;\n",
       "    }\n",
       "\n",
       "    .dataframe tbody tr th {\n",
       "        vertical-align: top;\n",
       "    }\n",
       "\n",
       "    .dataframe thead th {\n",
       "        text-align: right;\n",
       "    }\n",
       "</style>\n",
       "<table border=\"1\" class=\"dataframe\">\n",
       "  <thead>\n",
       "    <tr style=\"text-align: right;\">\n",
       "      <th></th>\n",
       "      <th>number_sms_mean</th>\n",
       "      <th>number_sms_var</th>\n",
       "      <th>number_sms_sd</th>\n",
       "    </tr>\n",
       "    <tr>\n",
       "      <th>plan</th>\n",
       "      <th></th>\n",
       "      <th></th>\n",
       "      <th></th>\n",
       "    </tr>\n",
       "  </thead>\n",
       "  <tbody>\n",
       "    <tr>\n",
       "      <th>surf</th>\n",
       "      <td>31.041165</td>\n",
       "      <td>1125.404892</td>\n",
       "      <td>33.547055</td>\n",
       "    </tr>\n",
       "    <tr>\n",
       "      <th>ultimate</th>\n",
       "      <td>37.343923</td>\n",
       "      <td>1208.156579</td>\n",
       "      <td>34.758547</td>\n",
       "    </tr>\n",
       "  </tbody>\n",
       "</table>\n",
       "</div>"
      ],
      "text/plain": [
       "          number_sms_mean  number_sms_var  number_sms_sd\n",
       "plan                                                    \n",
       "surf            31.041165     1125.404892      33.547055\n",
       "ultimate        37.343923     1208.156579      34.758547"
      ]
     },
     "execution_count": 41,
     "metadata": {},
     "output_type": "execute_result"
    }
   ],
   "source": [
    "# Promedio, varianza y desviación estandar por plan\n",
    "number_sms = df_megaline_rate.pivot_table(index='plan',values='total_number_sms',aggfunc='mean')\n",
    "number_sms.columns = ['number_sms_mean']\n",
    "surf_var = np.var(df_megaline_rate[df_megaline_rate['plan'] == 'surf']['total_number_sms'])\n",
    "ulti_var = np.var(df_megaline_rate[df_megaline_rate['plan'] == 'ultimate']['total_number_sms'])\n",
    "number_sms['number_sms_var'] = pd.Series([surf_var,ulti_var], index=['surf','ultimate'])\n",
    "number_sms['number_sms_sd'] = pd.Series([np.sqrt(surf_var),np.sqrt(ulti_var)], index=['surf','ultimate'])\n",
    "number_sms"
   ]
  },
  {
   "cell_type": "markdown",
   "id": "Vt4RaPLc7TcK",
   "metadata": {
    "id": "Vt4RaPLc7TcK"
   },
   "source": [
    "Nuevamente en ambos planes, la media de mensajes enviados por los usuarios mes a mes es mínima en comparación con la varianza que sus datos generan, por consiguiente, podemos visualizar que nuestros datos son completamente dispersos y confirmaremos esto nuevamente presentando sus valores máximos, mínimos y cantidad de datos en la columna."
   ]
  },
  {
   "cell_type": "code",
   "execution_count": 42,
   "id": "VX1XfhU9jHmD",
   "metadata": {
    "colab": {
     "base_uri": "https://localhost:8080/",
     "height": 404
    },
    "id": "VX1XfhU9jHmD",
    "outputId": "2f79166f-4430-48e3-f0f7-1f503f31e53e"
   },
   "outputs": [
    {
     "data": {
      "text/plain": [
       "count    2303.000000\n",
       "mean       33.022579\n",
       "std        34.065907\n",
       "min         0.000000\n",
       "25%         3.000000\n",
       "50%        25.000000\n",
       "75%        51.000000\n",
       "max       266.000000\n",
       "Name: total_number_sms, dtype: float64"
      ]
     },
     "execution_count": 42,
     "metadata": {},
     "output_type": "execute_result"
    }
   ],
   "source": [
    "# Calcuando el valor mínimo, máximo y la cantidad de información con la que contamos en nuestra tabla\n",
    "df_megaline_rate['total_number_sms'].describe()"
   ]
  },
  {
   "cell_type": "markdown",
   "id": "RCkEQbqSxhu5",
   "metadata": {
    "id": "RCkEQbqSxhu5"
   },
   "source": [
    "Nuevamente podemos observar valores en `0` que para este caso en específico es el mínimo de la columna `total_number_sms` y esto muy probablemente se deba a que estos usuarios no hicierón uso del servicio de mensajería al menos un mes a lo largo del año. Por otro lado el valor máximo es de `266` y un total de `2303` registros; pensando nuevamente en la ecuación de la varianza podemos decir que nuestros valores estan dispersos a lo largo de este rango."
   ]
  },
  {
   "cell_type": "markdown",
   "id": "_rVhE1d2PVzx",
   "metadata": {
    "id": "_rVhE1d2PVzx"
   },
   "source": [
    "### Trabajando con la columna \"total_volume_internet\" para la tabla \"df_megaline_rate\" para los usuarios."
   ]
  },
  {
   "cell_type": "code",
   "execution_count": 43,
   "id": "Sp9L_ltsjXmQ",
   "metadata": {
    "colab": {
     "base_uri": "https://localhost:8080/",
     "height": 531
    },
    "id": "Sp9L_ltsjXmQ",
    "outputId": "ba3087a7-69e5-4ceb-d9bf-89871c0d8395"
   },
   "outputs": [
    {
     "data": {
      "image/png": "[encoded data removed]",
      "text/plain": [
       "<Figure size 720x432 with 1 Axes>"
      ]
     },
     "metadata": {
      "needs_background": "light"
     },
     "output_type": "display_data"
    }
   ],
   "source": [
    "# Contabilizando la cantidad de minutos por llamda realizadas durante el año\n",
    "df_megaline_rate['total_volume_internet'].plot.hist(bins=10,figsize=(10,6))\n",
    "plt.xlabel('Volumen de datos consumidos')\n",
    "plt.ylabel('Frecuencia')\n",
    "plt.title('Histograma del volumen de datos consumidos durante el 2018.')\n",
    "plt.show()"
   ]
  },
  {
   "cell_type": "markdown",
   "id": "581bff87",
   "metadata": {},
   "source": [
    "Podemos observar de acuerdo al histograma que la mayor concentración de volumen de datos consumido esta alrededor de `20 Gb` mensuales sin embargo en este histograma también podemos darnos cuenta que no importa de que plan se trate, hay consumos que exceden ambos planes siendo el mayor `ultimate` con un límite de `30 Gb` mensuales. Podemos concluir de igual manera que este servicio es el más utilizado por los usuarios y posiblemente también aquel que genera mayor cantidad de ingresos para `Megaline`.\n",
    "\n",
    "Vamos a construir la tabla que contiene el promedio, varianza y desviación estandar."
   ]
  },
  {
   "cell_type": "code",
   "execution_count": 44,
   "id": "4473c96a",
   "metadata": {},
   "outputs": [
    {
     "data": {
      "text/html": [
       "<div>\n",
       "<style scoped>\n",
       "    .dataframe tbody tr th:only-of-type {\n",
       "        vertical-align: middle;\n",
       "    }\n",
       "\n",
       "    .dataframe tbody tr th {\n",
       "        vertical-align: top;\n",
       "    }\n",
       "\n",
       "    .dataframe thead th {\n",
       "        text-align: right;\n",
       "    }\n",
       "</style>\n",
       "<table border=\"1\" class=\"dataframe\">\n",
       "  <thead>\n",
       "    <tr style=\"text-align: right;\">\n",
       "      <th></th>\n",
       "      <th>vol_internet_mean</th>\n",
       "      <th>vol_internet_var</th>\n",
       "      <th>vol_internet_sd</th>\n",
       "    </tr>\n",
       "    <tr>\n",
       "      <th>plan</th>\n",
       "      <th></th>\n",
       "      <th></th>\n",
       "      <th></th>\n",
       "    </tr>\n",
       "  </thead>\n",
       "  <tbody>\n",
       "    <tr>\n",
       "      <th>surf</th>\n",
       "      <td>16.607346</td>\n",
       "      <td>62.362606</td>\n",
       "      <td>7.897000</td>\n",
       "    </tr>\n",
       "    <tr>\n",
       "      <th>ultimate</th>\n",
       "      <td>17.211326</td>\n",
       "      <td>60.069982</td>\n",
       "      <td>7.750483</td>\n",
       "    </tr>\n",
       "  </tbody>\n",
       "</table>\n",
       "</div>"
      ],
      "text/plain": [
       "          vol_internet_mean  vol_internet_var  vol_internet_sd\n",
       "plan                                                          \n",
       "surf              16.607346         62.362606         7.897000\n",
       "ultimate          17.211326         60.069982         7.750483"
      ]
     },
     "execution_count": 44,
     "metadata": {},
     "output_type": "execute_result"
    }
   ],
   "source": [
    "# Promedio, varianza y desviación estandar por plan\n",
    "volume_internet = df_megaline_rate.pivot_table(index='plan',values='total_volume_internet',aggfunc='mean')\n",
    "volume_internet.columns = ['vol_internet_mean']\n",
    "surf_var = np.var(df_megaline_rate[df_megaline_rate['plan'] == 'surf']['total_volume_internet'])\n",
    "ulti_var = np.var(df_megaline_rate[df_megaline_rate['plan'] == 'ultimate']['total_volume_internet'])\n",
    "volume_internet['vol_internet_var'] = pd.Series([surf_var,ulti_var], index=['surf','ultimate'])\n",
    "volume_internet['vol_internet_sd'] = pd.Series([np.sqrt(surf_var),np.sqrt(ulti_var)], index=['surf','ultimate'])\n",
    "volume_internet"
   ]
  },
  {
   "cell_type": "markdown",
   "id": "TmkNbQX27Vjr",
   "metadata": {
    "id": "TmkNbQX27Vjr"
   },
   "source": [
    "Por último para la columna `total_volume_internet` de la tabla `df_megaline_rate` podemos encontrar datos con distribuciones un poco menos dispersas en el sentido que nuestra varianza no esta muy por encima de nuestra media general y por ende, nuestra desviación estandar también esta dentro de valores comprensibles.\n",
    "\n",
    "Profundizaremos un poco en las cifras que se tienen para este caso y sentar mejor las bases de los resultados presentados anteriormente."
   ]
  },
  {
   "cell_type": "code",
   "execution_count": 45,
   "id": "60e4e212",
   "metadata": {},
   "outputs": [
    {
     "data": {
      "text/plain": [
       "count    2303.000000\n",
       "mean       16.797221\n",
       "std         7.857946\n",
       "min         0.000000\n",
       "25%        12.000000\n",
       "50%        17.000000\n",
       "75%        21.000000\n",
       "max        70.000000\n",
       "Name: total_volume_internet, dtype: float64"
      ]
     },
     "execution_count": 45,
     "metadata": {},
     "output_type": "execute_result"
    }
   ],
   "source": [
    "# Calcuando el valor mínimo, máximo y la cantidad de información con la que contamos en nuestra tabla\n",
    "df_megaline_rate['total_volume_internet'].describe()"
   ]
  },
  {
   "cell_type": "code",
   "execution_count": 46,
   "id": "l2gYrxmR-8Yo",
   "metadata": {
    "colab": {
     "base_uri": "https://localhost:8080/"
    },
    "id": "l2gYrxmR-8Yo",
    "outputId": "5922ede0-e4df-4897-ca3f-09b0d35f5c84"
   },
   "outputs": [
    {
     "name": "stdout",
     "output_type": "stream",
     "text": [
      "2303\n"
     ]
    }
   ],
   "source": [
    "# Extrayendo rangos dentro de la columna \"total_volume_internet\"\n",
    "df_megaline_rate['total_volume_internet'].sort_values().unique()\n",
    "print(len(df_megaline_rate['total_volume_internet'].sort_values()))"
   ]
  },
  {
   "cell_type": "markdown",
   "id": "gC03uPFUCzFq",
   "metadata": {
    "id": "gC03uPFUCzFq"
   },
   "source": [
    "Podemos observar que la cantidad de datos consumidos va desde los `0 GB` hasta casi `70 GB` por mes de los cuales se tiene un total de `2303` registros. Haciendo la misma analogía que anteriormente se planteo, el mínimo con respecto al máximo varian mucho en cuanto a cantidad, retomando la ecuación de la varianza, si bien no es muy grande la varianza, si esta considerablemente alejada del valor promedio y por ende, se aprecia disperción en los datos."
   ]
  },
  {
   "cell_type": "code",
   "execution_count": 47,
   "id": "_VfgioCZ0zRs",
   "metadata": {
    "colab": {
     "base_uri": "https://localhost:8080/"
    },
    "id": "_VfgioCZ0zRs",
    "outputId": "7ae5be61-7067-414f-be99-a2b41ad57221"
   },
   "outputs": [
    {
     "name": "stdout",
     "output_type": "stream",
     "text": [
      "Cantidad de usuarios que superarón cualquiera de los límites del plan: 1142\n",
      "Cantidad de usuarios que superarón el límite de minutos de llamda: 566\n",
      "Cantidad de usuarios que superarón el límite de SMS: 340\n",
      "Cantidad de usuarios que superarón el límite de GB: 911\n"
     ]
    }
   ],
   "source": [
    "# Analizando aquellos usuarios que superarón los límites del plan \"Surf\"\n",
    "upper_limits_surf = df_megaline_rate[(df_megaline_rate['plan'] == 'surf') & (df_megaline_rate['total'] > 20)]\n",
    "print(f\"Cantidad de usuarios que superarón cualquiera de los límites del plan: {len(upper_limits_surf)}\")\n",
    "print(f\"Cantidad de usuarios que superarón el límite de minutos de llamda: {len(upper_limits_surf[upper_limits_surf['total_minutes_calls'] > 500])}\")\n",
    "print(f\"Cantidad de usuarios que superarón el límite de SMS: {len(upper_limits_surf[upper_limits_surf['total_number_sms'] > 50])}\")\n",
    "print(f\"Cantidad de usuarios que superarón el límite de GB: {len(upper_limits_surf[upper_limits_surf['total_volume_internet'] > 15])}\")"
   ]
  },
  {
   "cell_type": "code",
   "execution_count": 48,
   "id": "CrM3TE9z47HM",
   "metadata": {
    "colab": {
     "base_uri": "https://localhost:8080/"
    },
    "id": "CrM3TE9z47HM",
    "outputId": "99bac283-a90d-40ac-cdbe-7b971c0e3dc0"
   },
   "outputs": [
    {
     "name": "stdout",
     "output_type": "stream",
     "text": [
      "Cantidad de usuarios que superarón cualquiera de los límites del plan: 41\n",
      "Cantidad de usuarios que superarón el límite de minutos de llamda: 0\n",
      "Cantidad de usuarios que superarón el límite de SMS: 0\n",
      "Cantidad de usuarios que superarón el límite de GB: 41\n"
     ]
    }
   ],
   "source": [
    "# Analizando aquellos usuarios que superarón los límites del plan \"Ultimate\"\n",
    "upper_limits_ultimate = df_megaline_rate[(df_megaline_rate['plan'] == 'ultimate') & (df_megaline_rate['total'] > 70)]\n",
    "print(f\"Cantidad de usuarios que superarón cualquiera de los límites del plan: {len(upper_limits_ultimate)}\")\n",
    "print(f\"Cantidad de usuarios que superarón el límite de minutos de llamda: {len(upper_limits_ultimate[upper_limits_ultimate['total_minutes_calls'] > 3000])}\")\n",
    "print(f\"Cantidad de usuarios que superarón el límite de SMS: {len(upper_limits_ultimate[upper_limits_ultimate['total_number_sms'] > 1000])}\")\n",
    "print(f\"Cantidad de usuarios que superarón el límite de GB: {len(upper_limits_ultimate[upper_limits_ultimate['total_volume_internet'] > 30])}\")"
   ]
  },
  {
   "cell_type": "code",
   "execution_count": 49,
   "id": "02517a9b",
   "metadata": {},
   "outputs": [
    {
     "data": {
      "image/png": "[encoded data removed]",
      "text/plain": [
       "<Figure size 432x288 with 1 Axes>"
      ]
     },
     "metadata": {
      "needs_background": "light"
     },
     "output_type": "display_data"
    }
   ],
   "source": [
    "# Graficando el comportamiento los minutos consumidos a lo largo del 2018\n",
    "df_megaline_rate.groupby(['month',\n",
    "                          'plan']).agg({'total_minutes_calls':'sum'}).unstack().plot(xlabel='Mes',\n",
    "                                                                                     ylabel='Cantidad',\n",
    "                                                                                     title='Minutos consumidos por mes.')\n",
    "plt.legend([\"Minutos - Surf\",\"Minutos - Ultimate\"])\n",
    "plt.show()\n"
   ]
  },
  {
   "cell_type": "code",
   "execution_count": 50,
   "id": "6f70314c",
   "metadata": {},
   "outputs": [
    {
     "data": {
      "image/png": "[encoded data removed]",
      "text/plain": [
       "<Figure size 432x288 with 1 Axes>"
      ]
     },
     "metadata": {
      "needs_background": "light"
     },
     "output_type": "display_data"
    }
   ],
   "source": [
    "# Graficando el comportamiento de la cantidad de llamadas realizadas a lo largo del 2018\n",
    "df_megaline_rate.groupby(['month',\n",
    "                          'plan']).agg({'total_minutes_calls':'count'}).unstack().plot(xlabel='Mes',\n",
    "                                                                                       ylabel='Cantidad',\n",
    "                                                                                       title='Llamadas realizadas por mes.')\n",
    "plt.legend([\"Cantidad llamadas - Surf\",\"Cantidad llamadas - Ultimate\"])\n",
    "plt.show()\n"
   ]
  },
  {
   "cell_type": "code",
   "execution_count": 51,
   "id": "4d6dcf23",
   "metadata": {},
   "outputs": [
    {
     "data": {
      "image/png": "[encoded data removed]",
      "text/plain": [
       "<Figure size 432x288 with 1 Axes>"
      ]
     },
     "metadata": {
      "needs_background": "light"
     },
     "output_type": "display_data"
    }
   ],
   "source": [
    "# Graficando el comportamiento los mensajes enviados a lo largo del 2018\n",
    "df_megaline_rate.groupby(['month',\n",
    "                          'plan']).agg({'total_number_sms':'count'}).unstack().plot(xlabel='Mes',\n",
    "                                                                                       ylabel='Cantidad',\n",
    "                                                                                       title='Mensajes enviados por mes.')\n",
    "plt.legend([\"Cantidad mensajes - Surf\",\"Cantidad mensajes - Ultimate\"])\n",
    "plt.show()\n"
   ]
  },
  {
   "cell_type": "code",
   "execution_count": 52,
   "id": "ca6d5caa",
   "metadata": {},
   "outputs": [
    {
     "data": {
      "image/png": "[encoded data removed]",
      "text/plain": [
       "<Figure size 432x288 with 1 Axes>"
      ]
     },
     "metadata": {
      "needs_background": "light"
     },
     "output_type": "display_data"
    }
   ],
   "source": [
    "# Graficando el comportamiento del volumen de datos consumido a lo largo del 2018\n",
    "df_megaline_rate.groupby(['month',\n",
    "                          'plan']).agg({'total_volume_internet':'sum'}).unstack().plot(xlabel='Mes',\n",
    "                                                                                     ylabel='Cantidad',\n",
    "                                                                                     title='Volumen de datos por mes.')\n",
    "plt.legend([\"Volumen datos - Surf\",\"Volumen datos - Ultimate\"])\n",
    "plt.show()\n"
   ]
  },
  {
   "cell_type": "markdown",
   "id": "coGdL4RuZTRK",
   "metadata": {
    "id": "coGdL4RuZTRK"
   },
   "source": [
    "## Prueba de hipótesis"
   ]
  },
  {
   "cell_type": "markdown",
   "id": "LonixLB_ZYGi",
   "metadata": {
    "id": "LonixLB_ZYGi"
   },
   "source": [
    "La primer hipótesis que tenemos hasta el momento es que el plan `Surf` genera más ingreso para `Megaline` que el plan `Ultimate` esto es debido a que aparentemente los usuarios al contar con menos cantidad de minutos, SMS y datos, tienden a superarlos con facilidad provocando que el usuario tenga que pagar esa diferencia.\n",
    "\n",
    "Por esta razón procederemos a ejecutar la prueba de hipótesis para validar lo anterior mencionado."
   ]
  },
  {
   "cell_type": "markdown",
   "id": "MyoZZnfhWT55",
   "metadata": {
    "id": "MyoZZnfhWT55"
   },
   "source": [
    "### La cantidad de llamadas realizadas durante el año del plan `Surf` es igual las realizadas en el plan `Ultimate`."
   ]
  },
  {
   "cell_type": "markdown",
   "id": "oILbsaMQWzHw",
   "metadata": {
    "id": "oILbsaMQWzHw"
   },
   "source": [
    "Para esta prueba de hipótesis es importante identificar cuál es la adecuada. Tenemos 4 opciones para poder trabajar y debemos conocer que es lo que esta pasando con nuestras pruebas y saber con que datos contamos:\n",
    "- `Hipótesis con dos colas`: Requerímos de un valor específico de comparación con la media de la muestra.\n",
    "- `Hipótesis con una cola`: Requerimos un valor específico de comparación con la media de la muestar, en este caso nuestro `p value` se dividirá entre 2 para considerar ambas posiciones.\n",
    "- `Hipótesis sobre la igualdad de las medias de dos poblaciones`: Requerimos de dos muestras y si se sabe conoce la varianza de ambas muestras y estas son iguales puede ajustarse el parámetro `equal_var = True`, en caso contrario se coloca en `False`.\n",
    "- `Hipótesis sobre la igualdad de las medias de muestras emparejadas`:  Requereimos de dos muestras con la característica de que estas provienen del mismo set de datos con una diferencia temporal.\n",
    "\n",
    "De acuerdo con los parámetros que requiere cada una de las pruebas y por la prueba de hipótesis planteada, podemos concluir en usar `igualdad de las medias de dos poblaciones` por lo siguiente:\n",
    "- Vamos a compara dos muestras que aunque provienden del mismo set de datos, estas son independientes una de otra puesto que vamos a comparar la cantidad de llamdas realizadas por los usuarios con el plan `surf` contra las realizadas por los `ultimate`.\n",
    "- Estas muestras no varian conforme el tiempo (para este caso en específico) puesto que vamos a hacer la evaluación del año completo.\n",
    "- No contamos con un parámetro en específico con el que queramos trabajar para compara con la media de la muestra.\n",
    "\n",
    "En conclusión, trabajaremos para estos fines con `Hipótesis sobre la igualdad de las medias de dos poblaciones`."
   ]
  },
  {
   "cell_type": "code",
   "execution_count": 53,
   "id": "UkVRLDMyZW_F",
   "metadata": {
    "colab": {
     "base_uri": "https://localhost:8080/"
    },
    "id": "UkVRLDMyZW_F",
    "outputId": "fa8af1e3-0f9f-4ac6-d062-e7501b03212d"
   },
   "outputs": [
    {
     "name": "stdout",
     "output_type": "stream",
     "text": [
      "<class 'pandas.core.frame.DataFrame'>\n",
      "RangeIndex: 1579 entries, 0 to 1578\n",
      "Data columns (total 8 columns):\n",
      " #   Column                 Non-Null Count  Dtype  \n",
      "---  ------                 --------------  -----  \n",
      " 0   user_id                1579 non-null   int64  \n",
      " 1   month                  1579 non-null   float64\n",
      " 2   total_number_calls     1579 non-null   float64\n",
      " 3   total_minutes_calls    1579 non-null   float64\n",
      " 4   total_number_sms       1579 non-null   float64\n",
      " 5   total_volume_internet  1579 non-null   float64\n",
      " 6   plan                   1579 non-null   object \n",
      " 7   total                  1579 non-null   float64\n",
      "dtypes: float64(6), int64(1), object(1)\n",
      "memory usage: 98.8+ KB\n"
     ]
    }
   ],
   "source": [
    "# Identificando la cantidad de muestras suficientes para nuestra muestra aleatoria\n",
    "surf_set = df_megaline_rate[df_megaline_rate['plan'] == 'surf'].reset_index(drop=True)\n",
    "surf_set.info()"
   ]
  },
  {
   "cell_type": "code",
   "execution_count": 54,
   "id": "LeDmtVgNZJXc",
   "metadata": {
    "colab": {
     "base_uri": "https://localhost:8080/"
    },
    "id": "LeDmtVgNZJXc",
    "outputId": "2b173237-6121-498e-fc27-d9c4f2b0caef"
   },
   "outputs": [
    {
     "name": "stdout",
     "output_type": "stream",
     "text": [
      "<class 'pandas.core.frame.DataFrame'>\n",
      "RangeIndex: 724 entries, 0 to 723\n",
      "Data columns (total 8 columns):\n",
      " #   Column                 Non-Null Count  Dtype  \n",
      "---  ------                 --------------  -----  \n",
      " 0   user_id                724 non-null    int64  \n",
      " 1   month                  724 non-null    float64\n",
      " 2   total_number_calls     724 non-null    float64\n",
      " 3   total_minutes_calls    724 non-null    float64\n",
      " 4   total_number_sms       724 non-null    float64\n",
      " 5   total_volume_internet  724 non-null    float64\n",
      " 6   plan                   724 non-null    object \n",
      " 7   total                  724 non-null    float64\n",
      "dtypes: float64(6), int64(1), object(1)\n",
      "memory usage: 45.4+ KB\n"
     ]
    }
   ],
   "source": [
    "ultimate_set = df_megaline_rate[df_megaline_rate['plan'] == 'ultimate'].reset_index(drop=True)\n",
    "ultimate_set.info()"
   ]
  },
  {
   "cell_type": "markdown",
   "id": "HlzBMla8tt_E",
   "metadata": {
    "id": "HlzBMla8tt_E"
   },
   "source": [
    "Ajustaremos el valor α = 5% que es un valor convencional de significación estadística y ejecutaremos la prueba de `hipótesis sobre la igualdad de medias de dos poblaciones`.\n",
    "\n",
    "Para poder ejecutar la prueba de hipótesis, es importante primero determinar si las muestras tienen varianzas iguales o similares mayormente, para esto, pondremos a prueba dichas muestras usando el algoritmo de `Levene` que se encarga de probar que todas las entradas de la hipótesis nula tienen varianzas iguales."
   ]
  },
  {
   "cell_type": "code",
   "execution_count": 55,
   "id": "63ec2a05",
   "metadata": {},
   "outputs": [
    {
     "name": "stdout",
     "output_type": "stream",
     "text": [
      "P value: 0.3291756585860618\n",
      "No rechazamos la hipótesis nula\n"
     ]
    }
   ],
   "source": [
    "# Ejecutando la prueba de \"Levene\"\n",
    "alpha = 0.05\n",
    "stat,p = levene(surf_set['total_number_calls'],ultimate_set['total_number_calls'])\n",
    "print(\"P value:\", p)\n",
    "if p < alpha:\n",
    "    print(\"Rechazamos la hipótesis nula\")\n",
    "else:\n",
    "    print(\"No rechazamos la hipótesis nula\")"
   ]
  },
  {
   "cell_type": "markdown",
   "id": "4a24bb62",
   "metadata": {},
   "source": [
    "De acuerdo con `p value` de la `prueba de levene` nos indica que `no se rechaza la hipótesis nula`, por ende `equal_var = True`."
   ]
  },
  {
   "cell_type": "code",
   "execution_count": 56,
   "id": "pOwe7_sAewzD",
   "metadata": {
    "colab": {
     "base_uri": "https://localhost:8080/"
    },
    "id": "pOwe7_sAewzD",
    "outputId": "ea5cfd06-b443-4e37-ca1a-ebb4a7fb367f"
   },
   "outputs": [
    {
     "name": "stdout",
     "output_type": "stream",
     "text": [
      "p-value:  0.6288308023160908\n",
      "No rechazamos la hipótesis nula\n"
     ]
    }
   ],
   "source": [
    "# Ejecutando prueba de hipótesis Núm. 1\n",
    "alpha = 0.05\n",
    "results = st.ttest_ind(surf_set['total_number_calls'],ultimate_set['total_number_calls'],equal_var = True)\n",
    "print('p-value: ', results.pvalue)\n",
    "if results.pvalue < alpha:\n",
    "    print(\"Rechazamos la hipótesis nula\")\n",
    "else:\n",
    "    print(\"No rechazamos la hipótesis nula\")"
   ]
  },
  {
   "cell_type": "markdown",
   "id": "RQdr78sK1YGq",
   "metadata": {
    "id": "RQdr78sK1YGq"
   },
   "source": [
    "De esta prueba de hipótesis podemos ver que nuestro `valor p` sale del rango de significación estadística, por lo que `No rechazamos la hipótesis nula`, es decir, hay un `62.8%` al menos de probabilidad de obtener aleatoriamente muestras similares de los dos conjuntos de datos.\n",
    "\n",
    "Ahora veremos que es lo que sucede cuando hablamos de la cantidad de mensajes enviados postulando Ho como `La cantidad de mensajes enviados por los usuarios con el plan surf es igual a los enviados con el plan ultimate`."
   ]
  },
  {
   "cell_type": "markdown",
   "id": "3ghthoJy6CI4",
   "metadata": {
    "id": "3ghthoJy6CI4"
   },
   "source": [
    "### La cantidad de mensajes enviados por los usuarios con el plan surf es igual a los enviados con el plan ultimate."
   ]
  },
  {
   "cell_type": "code",
   "execution_count": 57,
   "id": "e09c7d4a",
   "metadata": {},
   "outputs": [
    {
     "name": "stdout",
     "output_type": "stream",
     "text": [
      "P value: 0.0030964819211228597\n",
      "Rechazamos la hipótesis nula\n"
     ]
    }
   ],
   "source": [
    "# Ejecutando la prueba de \"Levene\"\n",
    "stat,p = levene(surf_set['total_number_sms'],ultimate_set['total_number_sms'])\n",
    "print(\"P value:\", p)\n",
    "if p < alpha:\n",
    "    print(\"Rechazamos la hipótesis nula\")\n",
    "else:\n",
    "    print(\"No rechazamos la hipótesis nula\")"
   ]
  },
  {
   "cell_type": "markdown",
   "id": "d58fd973",
   "metadata": {},
   "source": [
    "Para este caso, la `prueba de levene` nos indica que `rechazamos la hipótesis nula` por ende, consideramos que tenemos la evidencia suficiente como para rechazar que las varianzas son iguales y como consecuencia `equal_var=False`"
   ]
  },
  {
   "cell_type": "code",
   "execution_count": 58,
   "id": "vJUyvFwW5PQx",
   "metadata": {
    "colab": {
     "base_uri": "https://localhost:8080/"
    },
    "id": "vJUyvFwW5PQx",
    "outputId": "8fba9a97-50d6-4e6f-cdce-6170a5480fba"
   },
   "outputs": [
    {
     "name": "stdout",
     "output_type": "stream",
     "text": [
      "p-value:  4.728131867996157e-05\n",
      "Rechazamos la hipótesis nula\n"
     ]
    }
   ],
   "source": [
    "# Ejecutando prueba de hipótesis Núm. 2\n",
    "alpha = 0.05\n",
    "results = st.ttest_ind(surf_set['total_number_sms'],ultimate_set['total_number_sms'],equal_var=False)\n",
    "print('p-value: ', results.pvalue)\n",
    "if results.pvalue < alpha:\n",
    "    print(\"Rechazamos la hipótesis nula\")\n",
    "else:\n",
    "    print(\"No rechazamos la hipótesis nula\")"
   ]
  },
  {
   "cell_type": "markdown",
   "id": "r0EIeARV6P2E",
   "metadata": {
    "id": "r0EIeARV6P2E"
   },
   "source": [
    "`La hipótesis nula es rechazada` pues hay una probabilidad muy escasa de que de manera aleatoria, encontremos valores similares al tomar una muestra de cada conjunto de usuarios con el plan `ultimate` y con el plan `surf`."
   ]
  },
  {
   "cell_type": "markdown",
   "id": "enQGJmXr7WcQ",
   "metadata": {
    "id": "enQGJmXr7WcQ"
   },
   "source": [
    "### La cantidad de datos consumidos por los usuarios con el plan surf es igual a los enviados con el plan ultimate."
   ]
  },
  {
   "cell_type": "code",
   "execution_count": 59,
   "id": "38a90296",
   "metadata": {},
   "outputs": [
    {
     "name": "stdout",
     "output_type": "stream",
     "text": [
      "P value: 0.5962065161438024\n",
      "No rechazamos la hipótesis nula\n"
     ]
    }
   ],
   "source": [
    "# Ejecutando la prueba de \"Levene\"\n",
    "stat,p = levene(surf_set['total_volume_internet'],ultimate_set['total_volume_internet'])\n",
    "print(\"P value:\", p)\n",
    "if p < alpha:\n",
    "    print(\"Rechazamos la hipótesis nula\")\n",
    "else:\n",
    "    print(\"No rechazamos la hipótesis nula\")"
   ]
  },
  {
   "cell_type": "markdown",
   "id": "cedca785",
   "metadata": {},
   "source": [
    "De acuerdo con `p value` de la `prueba de levene` nos indica que `no se rechaza la hipótesis nula`, por ende `equal_var = True`."
   ]
  },
  {
   "cell_type": "code",
   "execution_count": 60,
   "id": "xd44avtJ6ato",
   "metadata": {
    "colab": {
     "base_uri": "https://localhost:8080/"
    },
    "id": "xd44avtJ6ato",
    "outputId": "8a7c6f0b-9861-48d3-800f-2ad40f621a52"
   },
   "outputs": [
    {
     "name": "stdout",
     "output_type": "stream",
     "text": [
      "p-value:  0.0868097375771433\n",
      "No rechazamos la hipótesis nula\n"
     ]
    }
   ],
   "source": [
    "# Ejecutando prueba de hipótesis Núm. 3\n",
    "alpha = 0.05\n",
    "results = st.ttest_ind(surf_set['total_volume_internet'],ultimate_set['total_volume_internet'],equal_var=True)\n",
    "print('p-value: ', results.pvalue)\n",
    "if results.pvalue < alpha:\n",
    "    print(\"Rechazamos la hipótesis nula\")\n",
    "else:\n",
    "    print(\"No rechazamos la hipótesis nula\")"
   ]
  },
  {
   "cell_type": "markdown",
   "id": "qpdx1Sac7zk2",
   "metadata": {
    "id": "qpdx1Sac7zk2"
   },
   "source": [
    "Para esta hipótesis, `no fue rechazada` pues hay una probabilidad de al menos `8.6%` de que de manera aleatoria al tomar una muestra de cada conjunto, esta sea similar una de otra."
   ]
  },
  {
   "cell_type": "markdown",
   "id": "CHbfVmN3jgEr",
   "metadata": {
    "id": "CHbfVmN3jgEr"
   },
   "source": [
    "### El ingreso promedio de los usuarios de las tarifas `Ultimate` y `Surf` difiere."
   ]
  },
  {
   "cell_type": "markdown",
   "id": "5Ta8tGkikjY-",
   "metadata": {
    "id": "5Ta8tGkikjY-"
   },
   "source": [
    "Para formular nuestra hipótesis nula, debemos tomar en cuenta lo establecido matematicamente y esto asume una igualdad, es decir, que los ingresos que genera el plan `Ultimate` tiene un `95%` al menos de confiabilidad que seran similares a los ingresos que genera el plan `Surf`.\n",
    "\n",
    "Se establece por simplicidad un valor para `α = 5%`, esto es debido a que podriamos tener cierta permisibilidad de error.\n",
    "\n",
    "Por ende, nuestra hipótesis alternativa plantea el rechazo de dicha igualdad, proponiendo que hay evidencia suficiente como para decir que hay una diferencia significativa entre los ingresos generados por un plan y el otro.\n",
    "\n",
    "Por otro lado, se hace uso de `Hipótesis sobre la igualdad de las medias de dos poblaciones` por el hecho de que si bien los datos provienden del mismo conjunto, estos son independientes uno de otro por la sencilla razón de que cuentan en su totalidad con parámtros para características totalmente diferentes."
   ]
  },
  {
   "cell_type": "code",
   "execution_count": 61,
   "id": "6178d0ba",
   "metadata": {},
   "outputs": [
    {
     "name": "stdout",
     "output_type": "stream",
     "text": [
      "P value: 3.070976609395645e-83\n",
      "Rechazamos la hipótesis nula\n"
     ]
    }
   ],
   "source": [
    "# Ejecutando la prueba de \"Levene\"\n",
    "stat,p = levene(surf_set['total'],ultimate_set['total'])\n",
    "print(\"P value:\", p)\n",
    "if p < alpha:\n",
    "    print(\"Rechazamos la hipótesis nula\")\n",
    "else:\n",
    "    print(\"No rechazamos la hipótesis nula\")"
   ]
  },
  {
   "cell_type": "markdown",
   "id": "1538b35c",
   "metadata": {},
   "source": [
    "De acuerdo con `p value`, la hipótesis es rechazada puesto que hay evidencia suficiente como para inferir que las varianzas entre los conjuntos de datos son distintas, por ende `equal_var=False`."
   ]
  },
  {
   "cell_type": "code",
   "execution_count": 62,
   "id": "-hg8pBPl7_wg",
   "metadata": {
    "colab": {
     "base_uri": "https://localhost:8080/"
    },
    "id": "-hg8pBPl7_wg",
    "outputId": "6c409521-2b6f-4e88-f0f9-140fdfe60ab3"
   },
   "outputs": [
    {
     "name": "stdout",
     "output_type": "stream",
     "text": [
      "p-value:  1.2184115852123163e-15\n",
      "Rechazamos la hipótesis nula\n"
     ]
    }
   ],
   "source": [
    "# Ejecutando prueba de hipótesis Núm. 4\n",
    "alpha = 0.05\n",
    "results = st.ttest_ind(surf_set['total'],ultimate_set['total'],equal_var=False)\n",
    "print('p-value: ', results.pvalue)\n",
    "if results.pvalue < alpha:\n",
    "    print(\"Rechazamos la hipótesis nula\")\n",
    "else:\n",
    "    print(\"No rechazamos la hipótesis nula\")"
   ]
  },
  {
   "cell_type": "markdown",
   "id": "dJLJ4Y9misrL",
   "metadata": {
    "id": "dJLJ4Y9misrL"
   },
   "source": [
    "Podemos observar que nuestro `p-value` salió por completo de nuestro nivel de confianza lo que nos indica que tenemos la evidencia suficiente como para rechazar nuestra hipótesis y asumir que hay una diferencia significativa si tomamos al azar una muestra de cada conjunto y las comparamos. Por lo que podemos decir que hay un plan tarifario que genera más ingresos para `Megaline` que otro."
   ]
  },
  {
   "cell_type": "markdown",
   "id": "oxnOtssznZil",
   "metadata": {
    "id": "oxnOtssznZil"
   },
   "source": [
    "### El ingreso promedio de los usuarios en el área de estados Nueva York-Nueva Jersey es diferente al de los usuarios de otras regiones."
   ]
  },
  {
   "cell_type": "markdown",
   "id": "Jug0qhQmoFhC",
   "metadata": {
    "id": "Jug0qhQmoFhC"
   },
   "source": [
    "Para esta hipótesis aplican los mismos criterios que en la anterior, por ende, usaremos `Hipótesis sobre la igualdad de las medias de dos poblaciones`.\n",
    "\n",
    "Nuestra hipótesis nula estará sostenida por el hecho que los usuarios de `Nueva York-Nueva Jersey` generan ingresos similares con respecto a los usuarios de otras regiones. Por ende, nuestra hipotesis alternativa plantea que los ingresos son diferentes.\n",
    "\n",
    "Primero, debemos crear una muestra con los datos de aquellos usuarios que viven en `Nueva York-Nueva Jersey` y compararlos con el resto excluyendo a estos usarios."
   ]
  },
  {
   "cell_type": "code",
   "execution_count": 63,
   "id": "oomv85Gpjaer",
   "metadata": {
    "colab": {
     "base_uri": "https://localhost:8080/",
     "height": 206
    },
    "id": "oomv85Gpjaer",
    "outputId": "9fef8061-69c7-41b5-aa39-0a1062e24bfc"
   },
   "outputs": [
    {
     "data": {
      "text/html": [
       "<div>\n",
       "<style scoped>\n",
       "    .dataframe tbody tr th:only-of-type {\n",
       "        vertical-align: middle;\n",
       "    }\n",
       "\n",
       "    .dataframe tbody tr th {\n",
       "        vertical-align: top;\n",
       "    }\n",
       "\n",
       "    .dataframe thead th {\n",
       "        text-align: right;\n",
       "    }\n",
       "</style>\n",
       "<table border=\"1\" class=\"dataframe\">\n",
       "  <thead>\n",
       "    <tr style=\"text-align: right;\">\n",
       "      <th></th>\n",
       "      <th>user_id</th>\n",
       "      <th>first_name</th>\n",
       "      <th>last_name</th>\n",
       "      <th>age</th>\n",
       "      <th>city</th>\n",
       "      <th>reg_date</th>\n",
       "      <th>plan</th>\n",
       "      <th>churn_date</th>\n",
       "    </tr>\n",
       "  </thead>\n",
       "  <tbody>\n",
       "    <tr>\n",
       "      <th>495</th>\n",
       "      <td>1495</td>\n",
       "      <td>Fidel</td>\n",
       "      <td>Sharpe</td>\n",
       "      <td>67</td>\n",
       "      <td>new york-newark-jersey city, ny-nj-pa msa</td>\n",
       "      <td>2018-09-04</td>\n",
       "      <td>surf</td>\n",
       "      <td>NaT</td>\n",
       "    </tr>\n",
       "    <tr>\n",
       "      <th>496</th>\n",
       "      <td>1496</td>\n",
       "      <td>Ariel</td>\n",
       "      <td>Shepherd</td>\n",
       "      <td>49</td>\n",
       "      <td>new orleans-metairie, la msa</td>\n",
       "      <td>2018-02-20</td>\n",
       "      <td>surf</td>\n",
       "      <td>NaT</td>\n",
       "    </tr>\n",
       "    <tr>\n",
       "      <th>497</th>\n",
       "      <td>1497</td>\n",
       "      <td>Donte</td>\n",
       "      <td>Barrera</td>\n",
       "      <td>49</td>\n",
       "      <td>los angeles-long beach-anaheim, ca msa</td>\n",
       "      <td>2018-12-10</td>\n",
       "      <td>ultimate</td>\n",
       "      <td>NaT</td>\n",
       "    </tr>\n",
       "    <tr>\n",
       "      <th>498</th>\n",
       "      <td>1498</td>\n",
       "      <td>Scot</td>\n",
       "      <td>Williamson</td>\n",
       "      <td>51</td>\n",
       "      <td>new york-newark-jersey city, ny-nj-pa msa</td>\n",
       "      <td>2018-02-04</td>\n",
       "      <td>surf</td>\n",
       "      <td>NaT</td>\n",
       "    </tr>\n",
       "    <tr>\n",
       "      <th>499</th>\n",
       "      <td>1499</td>\n",
       "      <td>Shena</td>\n",
       "      <td>Dickson</td>\n",
       "      <td>37</td>\n",
       "      <td>orlando-kissimmee-sanford, fl msa</td>\n",
       "      <td>2018-05-06</td>\n",
       "      <td>surf</td>\n",
       "      <td>NaT</td>\n",
       "    </tr>\n",
       "  </tbody>\n",
       "</table>\n",
       "</div>"
      ],
      "text/plain": [
       "     user_id first_name   last_name  age  \\\n",
       "495     1495      Fidel      Sharpe   67   \n",
       "496     1496      Ariel    Shepherd   49   \n",
       "497     1497      Donte     Barrera   49   \n",
       "498     1498       Scot  Williamson   51   \n",
       "499     1499      Shena     Dickson   37   \n",
       "\n",
       "                                          city   reg_date      plan churn_date  \n",
       "495  new york-newark-jersey city, ny-nj-pa msa 2018-09-04      surf        NaT  \n",
       "496               new orleans-metairie, la msa 2018-02-20      surf        NaT  \n",
       "497     los angeles-long beach-anaheim, ca msa 2018-12-10  ultimate        NaT  \n",
       "498  new york-newark-jersey city, ny-nj-pa msa 2018-02-04      surf        NaT  \n",
       "499          orlando-kissimmee-sanford, fl msa 2018-05-06      surf        NaT  "
      ]
     },
     "execution_count": 63,
     "metadata": {},
     "output_type": "execute_result"
    }
   ],
   "source": [
    "# Normalizando la columna \"city\" de \"df_megaline_users\"\n",
    "def lower_city(row):\n",
    "    city = row['city']\n",
    "    return city.lower()\n",
    "\n",
    "df_megaline_users['city'] = df_megaline_users.apply(lower_city,axis=1)\n",
    "df_megaline_users.tail()"
   ]
  },
  {
   "cell_type": "code",
   "execution_count": 64,
   "id": "RqAg0hllo8Df",
   "metadata": {
    "id": "RqAg0hllo8Df"
   },
   "outputs": [],
   "source": [
    "# Creado \"new_york_jersey\" que contiene los usuarios de \"Nueva York-Nueva Jersey\"\n",
    "def new_york_jersey(row):\n",
    "    city = row['city']\n",
    "    if city.find('new york-newark-jersey') != -1:\n",
    "        return row['user_id']\n",
    "\n",
    "new_york_jersey = df_megaline_users.apply(new_york_jersey,axis=1)\n",
    "new_york_jersey.dropna(inplace=True)\n",
    "new_york_jersey = df_megaline_rate.loc[list(new_york_jersey),:]"
   ]
  },
  {
   "cell_type": "code",
   "execution_count": 65,
   "id": "BBt5W5aHs_0-",
   "metadata": {
    "id": "BBt5W5aHs_0-"
   },
   "outputs": [],
   "source": [
    "# Creado \"rest_regions\" que no contiene los usuarios de \"Nueva York-Nueva Jersey\"\n",
    "def rest_regions(row):\n",
    "    city = row['city']\n",
    "    if city.find('new york-newark-jersey') == -1:\n",
    "        return row['user_id']\n",
    "\n",
    "rest_regions = df_megaline_users.apply(rest_regions,axis=1)\n",
    "rest_regions.dropna(inplace=True)\n",
    "rest_regions = df_megaline_rate.loc[list(rest_regions),:]"
   ]
  },
  {
   "cell_type": "code",
   "execution_count": 66,
   "id": "0ba40fc9",
   "metadata": {},
   "outputs": [
    {
     "name": "stdout",
     "output_type": "stream",
     "text": [
      "P value: 0.1092196269968889\n",
      "No rechazamos la hipótesis nula\n"
     ]
    }
   ],
   "source": [
    "# Ejecutando la prueba de \"Levene\"\n",
    "stat,p = levene(new_york_jersey['total'],rest_regions['total'])\n",
    "print(\"P value:\", p)\n",
    "if p < alpha:\n",
    "    print(\"Rechazamos la hipótesis nula\")\n",
    "else:\n",
    "    print(\"No rechazamos la hipótesis nula\")"
   ]
  },
  {
   "cell_type": "markdown",
   "id": "27077c63",
   "metadata": {},
   "source": [
    "Al `no rechazar la hipótesis nula` se verifica que no hay evidencia suficiente como para demostrar lo contrario, por ende, el valor `equal_var=True`."
   ]
  },
  {
   "cell_type": "code",
   "execution_count": 67,
   "id": "-Wt-v4zox0O2",
   "metadata": {
    "colab": {
     "base_uri": "https://localhost:8080/"
    },
    "id": "-Wt-v4zox0O2",
    "outputId": "da92716e-ff68-4127-8e3e-4da6b606db67"
   },
   "outputs": [
    {
     "name": "stdout",
     "output_type": "stream",
     "text": [
      "p-value:  0.09206772626978282\n",
      "No rechazamos la hipótesis nula\n"
     ]
    }
   ],
   "source": [
    "# Ejecutando prueba de hipótesis Núm. 5\n",
    "alpha = 0.05\n",
    "results = st.ttest_ind(new_york_jersey['total'],rest_regions['total'],equal_var=True)\n",
    "print('p-value: ', results.pvalue)\n",
    "if results.pvalue < alpha:\n",
    "    print(\"Rechazamos la hipótesis nula\")\n",
    "else:\n",
    "    print(\"No rechazamos la hipótesis nula\")"
   ]
  },
  {
   "cell_type": "markdown",
   "id": "U-qsxArkzDkO",
   "metadata": {
    "id": "U-qsxArkzDkO"
   },
   "source": [
    "Este resultado nos indica que no tenemos evidencia suficiente como para sostener que los usuarios de la región de `Nueva York-Nueva Jersey` generan ingresos diferentes que los del resto de regiones, dando paso a que, si seleccionamos una muestra de cada conjunto al azar, hay al menos un `9.2%` de probabilidades de encontrarnos con que hay similitudes entre las muestras."
   ]
  },
  {
   "cell_type": "markdown",
   "id": "JSU5zBrJ0Mt5",
   "metadata": {
    "id": "JSU5zBrJ0Mt5"
   },
   "source": [
    "## Conclusiones"
   ]
  },
  {
   "cell_type": "markdown",
   "id": "lMw1VVpE0txm",
   "metadata": {
    "id": "lMw1VVpE0txm"
   },
   "source": [
    "De manera general nos econtramos con muchos retos alrededor de este proyecto, primeramente el conjuntar la información de un dataset que la contuviera y el como partir de ello para los distintos análisis fue laborioso pues fue aquí donde se puso a prueba el entendimiento de la teoría.\n",
    "\n",
    "En la realización de este proyecto me encontre con variazas sumamente lejanas al promedio de los registros, esto no me permitio tener una visión clara de la información que contenía en mi conjunto de datos (el vaciado de información de los distintos archivos que nos proporcionaron), lo cuál me llevo a analizar a profundidad que era lo que estaba pasando.\n",
    "\n",
    "Las varianzas sumamentes grandes me llevarón a descubrir que los datos se encontraban totalmente dispersos en un rango demasiado grande, es decir, tenía valores practicamente en el orden de las decenas, despersos en un rango en el orden de los miles, ademas también, la cantidad de datos era mínima en comparación con este mismo rango.\n",
    "\n",
    "Posteriormente esto nos llevo de la mano hasta llegar a investigar cuantos usuarios de manera general y particular superarón los límites de su plan llegando a concluir, si bien, los usuarios del plan `surf` son mas que los usuarios de plan `ultimate`, son pocos de este último los que rebasan estos límites en comparación con el `surf`. Esto de manera lógica, tiene sentido pues los límites del plan `surf` son considerablemente menores que el `ultimate`.\n",
    "\n",
    "Debido a lo anterior, era importante ratificar esta información a través de pruebas de hipótesis planteando 5 principalmente:\n",
    "- La cantidad de llamadas realizadas durante el año del plan Surf es igual las realizadas en el plan Ultimate.\n",
    "- La cantidad de mensajes enviados por los usuarios con el plan surf es igual a los enviados con el plan ultimate.\n",
    "- La cantidad de datos consumidos por los usuarios con el plan surf es igual a los enviados con el plan ultimate.\n",
    "- El ingreso promedio de los usuarios de las tarifas Ultimate y Surf difiere.\n",
    "- El ingreso promedio de los usuarios en el área de estados Nueva York-Nueva Jersey es diferente al de los usuarios de otras regiones.\n",
    "\n",
    "Concluyendo que, hay evidencia suficiente como para identificar que uno de los planes genera mayores ingresos para la compañia `Megaline` y este es el plan `Surf` y con respecto a la hipótesis de ingresos generados en la región de `Nueva York-Nueva Jersey` y el resto de regiones, vemos que no hay evidencia suficiente como para pensar que hay alguna diferencia en lo reportado."
   ]
  }
 ],
 "metadata": {
  "colab": {
   "provenance": []
  },
  "kernelspec": {
   "display_name": "Python 3 (ipykernel)",
   "language": "python",
   "name": "python3"
  },
  "language_info": {
   "codemirror_mode": {
    "name": "ipython",
    "version": 3
   },
   "file_extension": ".py",
   "mimetype": "text/x-python",
   "name": "python",
   "nbconvert_exporter": "python",
   "pygments_lexer": "ipython3",
   "version": "3.9.7"
  },
  "toc": {
   "base_numbering": 1,
   "nav_menu": {},
   "number_sections": true,
   "sideBar": true,
   "skip_h1_title": true,
   "title_cell": "Table of Contents",
   "title_sidebar": "Contents",
   "toc_cell": false,
   "toc_position": {},
   "toc_section_display": true,
   "toc_window_display": false
  }
 },
 "nbformat": 4,
 "nbformat_minor": 5
}
